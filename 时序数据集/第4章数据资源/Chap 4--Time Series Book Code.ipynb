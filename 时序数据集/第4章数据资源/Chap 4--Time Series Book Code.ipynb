{
 "cells": [
  {
   "cell_type": "markdown",
   "id": "77f48029",
   "metadata": {},
   "source": [
    "# 第四章"
   ]
  },
  {
   "cell_type": "markdown",
   "id": "6cb1d0fd",
   "metadata": {},
   "source": [
    "os.chdir(\"D:\\\\TSBOOKDATA\\\\Chap4\") #改变工作目录 "
   ]
  },
  {
   "cell_type": "markdown",
   "id": "f312dc54",
   "metadata": {},
   "source": [
    "### 例4.1"
   ]
  },
  {
   "cell_type": "markdown",
   "id": "32fb0e51",
   "metadata": {},
   "source": [
    "from statsmodels.tsa.seasonal import seasonal_decompose  "
   ]
  },
  {
   "cell_type": "markdown",
   "id": "8edb2614",
   "metadata": {},
   "source": [
    "traveller_df = pd.read_csv(\"NZTravellersDestination.csv\", usecols=['Date','China'], parse_dates=['Date'], index_col='Date')  "
   ]
  },
  {
   "cell_type": "markdown",
   "id": "c25a2c08",
   "metadata": {},
   "source": [
    "deco_muti = seasonal_decompose(traveller_df, model='mutiplicative', extrapolate_trend='freq')  "
   ]
  },
  {
   "cell_type": "markdown",
   "id": "1c2c0ca5",
   "metadata": {},
   "source": [
    "new,(ax1,ax2,ax3,ax4) = plt.subplots(4, 1, sharex=True, figsize=(12,8), dpi=150)  \n",
    "ax1.plot(deco_muti.observed, color='r')  \n",
    "ax1.set_ylabel(ylabel=\"Observed\", fontsize=15)  \n",
    "ax2.plot(deco_muti.trend, color='b')  \n",
    "ax2.set_ylabel(ylabel=\"Trend\", fontsize=15)  \n",
    "ax3.plot(deco_muti.seasonal, color='g')  \n",
    "ax3.set_ylabel(ylabel=\"Seasonal\", fontsize=15)  \n",
    "ax4.plot(deco_muti.resid, color='b')  \n",
    "ax4.set_ylabel(ylabel=\"Resid\", fontsize=15)  \n",
    "plt.xticks(fontsize=15); plt.yticks(fontsize=15)   \n",
    "plt.tight_layout(); plt.savefig(fname='fig/4_1.png')  "
   ]
  },
  {
   "cell_type": "markdown",
   "id": "d385d690",
   "metadata": {},
   "source": [
    "deco_value = pd.concat([deco_muti.trend, deco_muti.seasonal, deco_muti.resid, deco_muti.observed], axis=1)  \n",
    "deco_value.columns = ['trend', 'season', 'resid', 'actual_values']  \n",
    "deco_value.head()  "
   ]
  },
  {
   "cell_type": "markdown",
   "id": "89890d24",
   "metadata": {},
   "source": [
    "### 例4.2"
   ]
  },
  {
   "cell_type": "markdown",
   "id": "13087b20",
   "metadata": {},
   "source": [
    "import statsmodels.formula.api as smf  "
   ]
  },
  {
   "cell_type": "markdown",
   "id": "67baeb3f",
   "metadata": {},
   "source": [
    "df =  np.loadtxt(\"elec_prod.txt\")  \n",
    "t = np.arange(1,397)  "
   ]
  },
  {
   "cell_type": "markdown",
   "id": "e3452c6b",
   "metadata": {},
   "source": [
    "df_t = np.vstack((df,t)).swapaxes(0,1).astype(int)  \n",
    "model_data = pd.DataFrame(df_t,columns=['df','t'])  "
   ]
  },
  {
   "cell_type": "markdown",
   "id": "8fde36ac",
   "metadata": {},
   "source": [
    "results_f = smf.ols('df~t',data=model_data).fit()  \n",
    "print(results_f.summary().tables[1])  \n",
    "print('std = ',np.std(results_f.resid))  "
   ]
  },
  {
   "cell_type": "markdown",
   "id": "c15d767f",
   "metadata": {},
   "source": [
    "fig = plt.figure(figsize=(12,4), dpi=150)  \n",
    "ax = fig.add_subplot(111)  \n",
    "ax.plot(model_data, linestyle=\"\\-\", color='red')  \n",
    "ax.plot(t,1.423e+05 + 499.2576\\*t, color='blue')  \n",
    "ax.set_ylim((130000, 410000))  \n",
    "ax.set_ylabel(ylabel=\"Electricity\", fontsize=17)  \n",
    "ax.set_xlabel(xlabel=\"Time\", fontsize=17)  \n",
    "plt.xticks(fontsize=15); plt.yticks(fontsize=15)  \n",
    "fig.tight_layout(); plt.savefig(fname='fig/4_2.png')  "
   ]
  },
  {
   "cell_type": "markdown",
   "id": "d3509827",
   "metadata": {},
   "source": [
    "### 例4.3"
   ]
  },
  {
   "cell_type": "markdown",
   "id": "37c699cc",
   "metadata": {},
   "source": [
    "df =  pd.read_excel('ningxiaGDP.xlsx').rename(columns={'t':'t1'})  \n",
    "df = pd.DataFrame(df['t1'].values**2,columns=['t2']).join(df)  "
   ]
  },
  {
   "cell_type": "markdown",
   "id": "88d858dc",
   "metadata": {},
   "source": [
    "results_f = smf.ols('gdp~ 0 + t1+ t2', data=df).fit()  \n",
    "print(results_f.summary().tables[1])  \n",
    "print('std = ', np.std(results_f.resid))  "
   ]
  },
  {
   "cell_type": "markdown",
   "id": "c3f20135",
   "metadata": {},
   "source": [
    "from scipy.optimize import curve_fit   "
   ]
  },
  {
   "cell_type": "markdown",
   "id": "894ed4d7",
   "metadata": {},
   "source": [
    "df =  pd.read_excel('ningxiaGDP.xlsx')  \n",
    "t = df['t'].values  \n",
    "gdp = df['gdp'].values  "
   ]
  },
  {
   "cell_type": "markdown",
   "id": "5d62e1ea",
   "metadata": {},
   "source": [
    "def func(x, b,c):  \n",
    "&ensp;&ensp;&ensp;return  b\\*x + c\\*x**2     "
   ]
  },
  {
   "cell_type": "markdown",
   "id": "cbb31b8d",
   "metadata": {},
   "source": [
    "popt, pcov = curve_fit(func,t,gdp,p0=(1.0,1.0))  \n",
    "print(popt)   "
   ]
  },
  {
   "cell_type": "markdown",
   "id": "95cf7f5a",
   "metadata": {},
   "source": [
    "b = popt[0]  \n",
    "c = popt[1]  \n",
    "residuals = gdp - func(t, b, c)  \n",
    "print(np.std(residuals))  "
   ]
  },
  {
   "cell_type": "markdown",
   "id": "2238ca8a",
   "metadata": {},
   "source": [
    "t = np.arange(1996, 2016)  "
   ]
  },
  {
   "cell_type": "markdown",
   "id": "cbf0ff8a",
   "metadata": {},
   "source": [
    "fig = plt.figure(figsize=(12,4),dpi=150)  \n",
    "ax = fig.add_subplot(111)  \n",
    "ax.scatter(y=gdp, x=t, color='blue')  \n",
    "ax.plot(t, results_f.predict())  \n",
    "ax.xaxis.set_major_locator(ticker.MultipleLocator(3))  \n",
    "ax.set_ylabel(ylabel=\"宁夏地区生产总值\",fontsize=17)  \n",
    "ax.set_xlabel(xlabel=\"时间\", fontsize=17)  \n",
    "plt.xticks(fontsize=15); plt.yticks(fontsize=15)  \n",
    "fig.tight_layout(); plt.savefig(fname='fig/4_3.png')  "
   ]
  },
  {
   "cell_type": "markdown",
   "id": "4c89c2d7",
   "metadata": {},
   "source": [
    "### 例4.4"
   ]
  },
  {
   "cell_type": "markdown",
   "id": "a8ba4cd0",
   "metadata": {},
   "source": [
    "nile_ar =  np.loadtxt(\"Nile.txt\"); Date = np.arange(1871, 1971)  \n",
    "nile_df = pd.DataFrame({\"Date\":Date, \"Nile\":nile_ar})  \n",
    "nile_df.index = nile_df[\"Date\"]  "
   ]
  },
  {
   "cell_type": "markdown",
   "id": "66417cdd",
   "metadata": {},
   "source": [
    "nile_df['5-period Moving Avg'] = nile_df['Nile'].rolling(5).mean()  "
   ]
  },
  {
   "cell_type": "markdown",
   "id": "a306c6f7",
   "metadata": {},
   "source": [
    "fig = plt.figure(figsize=(12,4), dpi=150)  \n",
    "ax = fig.add_subplot(111)  \n",
    "nile_df['Nile'].plot(ax=ax, color='b', marker=\"o\", linestyle='\\--')  \n",
    "nile_df['5-period Moving Avg'].plot(ax=ax, color='r')  \n",
    "ax.legend(loc=1,labels=['尼罗河流量','简单移动平均'], fontsize=13)  \n",
    "ax.set_ylabel(ylabel=\"尼罗河流量\", fontsize=17)  \n",
    "ax.set_xlabel(xlabel=\"时间\", fontsize=17)  \n",
    "plt.xticks(fontsize=15); plt.yticks(fontsize=15)  \n",
    "fig.tight_layout(); plt.savefig(fname='fig/4_4.png')  "
   ]
  },
  {
   "cell_type": "markdown",
   "id": "49c07556",
   "metadata": {},
   "source": [
    "### 例4.5"
   ]
  },
  {
   "cell_type": "markdown",
   "id": "ca1022a8",
   "metadata": {},
   "source": [
    "gdp_df = pd.read_csv('JDGDP.csv')  "
   ]
  },
  {
   "cell_type": "markdown",
   "id": "4b20e5ad",
   "metadata": {},
   "source": [
    "gdp_df['Moving_Avg_1'] = gdp_df['JDGDP'].rolling(4).mean()  \n",
    "gdp_df['Moving_Avg_2'] = gdp_df['Moving_Avg_1'].rolling(4).mean()  "
   ]
  },
  {
   "cell_type": "markdown",
   "id": "463687e6",
   "metadata": {},
   "source": [
    "gdp_df['at'] = 2\\*gdp_df['Moving_Avg_1'] - gdp_df['Moving_Avg_2']  "
   ]
  },
  {
   "cell_type": "markdown",
   "id": "fa0c2d48",
   "metadata": {},
   "source": [
    "fig = plt.figure(figsize=(12,4),dpi=150)  \n",
    "ax = fig.add_subplot(111)  \n",
    "gdp_df['JDGDP'].plot(ax=ax, color='b',marker=\"o\",linestyle='--')  \n",
    "gdp_df['at'].plot(ax=ax, color='r')  \n",
    "ax.xaxis.set_major_locator(ticker.MultipleLocator(3))  \n",
    "ax.legend(loc=2,labels=['季度GDP','两次移动平均'], fontsize=13)  \n",
    "ax.set_ylabel(ylabel=\"中国季度国内生产总值\", fontsize=17)  \n",
    "ax.set_xlabel(xlabel=\"时间\", fontsize=17)  \n",
    "plt.xticks(fontsize=15); plt.yticks(fontsize=15)  \n",
    "fig.tight_layout(); plt.savefig(fname='fig/4_5.png')  "
   ]
  },
  {
   "cell_type": "markdown",
   "id": "151b440c",
   "metadata": {},
   "source": [
    "### 例4.6"
   ]
  },
  {
   "cell_type": "markdown",
   "id": "a90491e8",
   "metadata": {},
   "source": [
    "from statsmodels.tsa.api import SimpleExpSmoothing  "
   ]
  },
  {
   "cell_type": "markdown",
   "id": "599a3fa8",
   "metadata": {},
   "source": [
    "df = np.loadtxt(\"retail_price_index.txt\")  \n",
    "index = pd.date_range(start=\"1990\", end=\"2021\", freq=\"A\")  \n",
    "retail_df = pd.Series(df, index)  "
   ]
  },
  {
   "cell_type": "markdown",
   "id": "a28b7bfe",
   "metadata": {},
   "source": [
    "fit1 = SimpleExpSmoothing(retail_df, initialization_method=\"heuristic\").fit(smoothing_level=0.2, optimized=False)  \n",
    "fcast1 = fit1.forecast(3).rename(r\"$\\alpha=0.2$\")  "
   ]
  },
  {
   "cell_type": "markdown",
   "id": "db1934bd",
   "metadata": {},
   "source": [
    "fit2 = SimpleExpSmoothing(retail_df, initialization_method=\"heuristic\").fit(smoothing_level=0.6, optimized=False)  \n",
    "fcast2 = fit2.forecast(3).rename(r\"$\\alpha=0.6$\")  "
   ]
  },
  {
   "cell_type": "markdown",
   "id": "b21f21dc",
   "metadata": {},
   "source": [
    "fit3 = SimpleExpSmoothing(retail_df, initialization_method=\"estimated\").fit()  \n",
    "fcast3 = fit3.forecast(3).rename(r\"$\\alpha=%s$\"% fit3.model.params[\"smoothing_level\"] )  "
   ]
  },
  {
   "cell_type": "markdown",
   "id": "8a792c6d",
   "metadata": {},
   "source": [
    "fig = plt.figure(figsize=(12,4), dpi=150)  \n",
    "ax = fig.add_subplot(111)  \n",
    "ax.plot(retail_df, marker=\"o\", color=\"black\")  \n",
    "ax.plot(fit1.fittedvalues, marker=\"8\", color=\"green\",linestyle=\"-.\")  \n",
    "(line1,) = ax.plot(fcast1, marker=\"8\", color=\"green\",linestyle=\"-.\")  \n",
    "ax.plot(fit2.fittedvalues, marker=\"s\", color=\"red\",linestyle=\":\")  \n",
    "(line2,) = ax.plot(fcast2, marker=\"s\", color=\"red\",linestyle=\":\")  \n",
    "ax.plot(fit3.fittedvalues, marker=\"p\", color=\"blue\",linestyle=\"--\")  \n",
    "(line3,) = ax.plot(fcast3, marker=\"p\", color=\"blue\",linestyle=\"--\")  \n",
    "plt.legend([line1, line2, line3], [fcast1.name, fcast2.name, fcast3.name], fontsize=15)  \n",
    "ax.set_ylabel(ylabel=\"商品零售价格指数\", fontsize=17)  \n",
    "ax.set_xlabel(xlabel=\"时间\", fontsize=17)  \n",
    "plt.xticks(fontsize=15); plt.yticks(fontsize=15)  \n",
    "fig.tight_layout(); plt.savefig(fname='fig/4_6.png')  "
   ]
  },
  {
   "cell_type": "markdown",
   "id": "1818bff3",
   "metadata": {},
   "source": [
    "### 例4.7"
   ]
  },
  {
   "cell_type": "markdown",
   "id": "d9addc4a",
   "metadata": {},
   "source": [
    "from statsmodels.tsa.api import Holt  "
   ]
  },
  {
   "cell_type": "markdown",
   "id": "f78461c4",
   "metadata": {},
   "source": [
    "df = np.loadtxt(\"Enrolment.txt\")  \n",
    "index = pd.date_range(start=\"2000\", end=\"2021\", freq=\"A\")  \n",
    "Enrolment_df = pd.Series(df, index)  "
   ]
  },
  {
   "cell_type": "markdown",
   "id": "640a3918",
   "metadata": {},
   "source": [
    "fite = Holt(Enrolment_df, initialization_method=\"estimated\").fit()  \n",
    "fcast = fite.forecast(3).rename(\"Holt's linear trend\")  "
   ]
  },
  {
   "cell_type": "markdown",
   "id": "e3c30f31",
   "metadata": {},
   "source": [
    "fig = plt.figure(figsize=(12,4), dpi=150)  \n",
    "ax = fig.add_subplot(111)  \n",
    "ax.plot(Enrolment_df, marker=\"o\", color=\"black\")  \n",
    "ax.plot(fite.fittedvalues, marker=\"\\*\", color=\"blue\",linestyle=\"--\")  \n",
    "(line1,) = ax.plot(fcast, marker=\"\\*\", color=\"blue\",linestyle=\"--\")  \n",
    "ax.legend(loc=2,labels=['Enrolment','fcast.name'], fontsize=13)  \n",
    "ax.set_ylabel(ylabel=\"每十万人口高校在校人数\", fontsize=17)  \n",
    "ax.set_xlabel(xlabel=\"时间\", fontsize=17)  \n",
    "plt.xticks(fontsize=15); plt.yticks(fontsize=15)  \n",
    "fig.tight_layout(); plt.savefig(fname='fig/4_7.png')  "
   ]
  },
  {
   "cell_type": "markdown",
   "id": "77b057ba",
   "metadata": {},
   "source": [
    "### 例4.8"
   ]
  },
  {
   "cell_type": "markdown",
   "id": "8535bdf8",
   "metadata": {},
   "source": [
    "from statsmodels.tsa.api import ExponentialSmoothing  "
   ]
  },
  {
   "cell_type": "markdown",
   "id": "5ecf980a",
   "metadata": {},
   "source": [
    "df = np.loadtxt(\"QGDP.txt\")  \n",
    "index = pd.date_range(start=\"2000\", end=\"2021\", freq=\"Q\")  \n",
    "QGDP_df = pd.Series(df, index)  "
   ]
  },
  {
   "cell_type": "markdown",
   "id": "485d993f",
   "metadata": {},
   "source": [
    "fit = ExponentialSmoothing(QGDP_df, seasonal_periods=4, trend=\"add\", seasonal=\"mul\",initialization_method=\"estimated\").fit()    \n",
    "simulations = fit.simulate(8, repetitions=1000, error=\"mul\")  "
   ]
  },
  {
   "cell_type": "markdown",
   "id": "f2bbd4b0",
   "metadata": {},
   "source": [
    "fig = plt.figure(figsize=(12,4), dpi=150)  \n",
    "ax = fig.add_subplot(111)  \n",
    "ax.plot(QGDP_df, marker=\"o\", color=\"black\")  \n",
    "ax.plot(fit.fittedvalues, marker=\"o\", color=\"blue\", linestyle=\":\")  \n",
    "ax.plot(simulations, marker=\"o\", color=\"blue\", linestyle=\":\")  \n",
    "ax.set_ylabel(ylabel=\"国内季度生产总值累计值\", fontsize=17)  \n",
    "ax.set_xlabel(xlabel=\"时间\",fontsize=17)  \n",
    "plt.xticks(fontsize=15); plt.yticks(fontsize=15)  \n",
    "fig.tight_layout(); plt.savefig(fname='fig/4_8.png')  "
   ]
  },
  {
   "cell_type": "markdown",
   "id": "c696bf53",
   "metadata": {},
   "source": [
    "### 例4.9"
   ]
  },
  {
   "cell_type": "markdown",
   "id": "eff3f2de",
   "metadata": {},
   "source": [
    "df = np.loadtxt(\"tempdub.txt\")  \n",
    "index = pd.date_range(start=\"1964\", end=\"1976\", freq=\"M\")  \n",
    "tempdub_df = pd.Series(df, index)  "
   ]
  },
  {
   "cell_type": "markdown",
   "id": "6d8cbdda",
   "metadata": {},
   "source": [
    "fig = plt.figure(figsize=(12,4), dpi=150)  \n",
    "ax = fig.add_subplot(111)  \n",
    "ax.plot(tempdub_df, marker=\"o\", color=\"blue\")  \n",
    "ax.set_ylabel(ylabel=\"杜比克市月平均气温\",fontsize=17)  \n",
    "ax.set_xlabel(xlabel=\"时间\",fontsize=17)  \n",
    "plt.xticks(fontsize=15);plt.yticks(fontsize=15)  \n",
    "fig.tight_layout(); plt.savefig(fname='fig/4_9.png')  "
   ]
  },
  {
   "cell_type": "markdown",
   "id": "1382b5c0",
   "metadata": {},
   "source": [
    "t = np.arange(1,13)  \n",
    "SI = np.array([0.36,0.45,0.7,1.00,1.26,1.46,1.55,1.50,1.32,1.10,0.79,0.51])  \n",
    "Season_index = pd.Series(SI, t)  "
   ]
  },
  {
   "cell_type": "markdown",
   "id": "5ae14731",
   "metadata": {},
   "source": [
    "fig = plt.figure(figsize=(12,4), dpi=150)  \n",
    "ax = fig.add_subplot(111)  \n",
    "ax.plot(Season_index, marker=\"o\", color=\"blue\")  \n",
    "ax.set_ylabel(ylabel=\"季节指数\",fontsize=17)  \n",
    "ax.set_xlabel(xlabel=\"时间\",fontsize=17)  \n",
    "plt.xticks(fontsize=15);plt.yticks(fontsize=15)  \n",
    "fig.tight_layout(); plt.savefig(fname='fig/4_10.png')  "
   ]
  }
 ],
 "metadata": {
  "kernelspec": {
   "display_name": "Python 3 (ipykernel)",
   "language": "python",
   "name": "python3"
  },
  "language_info": {
   "codemirror_mode": {
    "name": "ipython",
    "version": 3
   },
   "file_extension": ".py",
   "mimetype": "text/x-python",
   "name": "python",
   "nbconvert_exporter": "python",
   "pygments_lexer": "ipython3",
   "version": "3.9.11"
  }
 },
 "nbformat": 4,
 "nbformat_minor": 5
}
