{
 "cells": [
  {
   "cell_type": "markdown",
   "id": "e30ff6bd",
   "metadata": {},
   "source": [
    "# 第八章"
   ]
  },
  {
   "cell_type": "markdown",
   "id": "5bf8f514",
   "metadata": {},
   "source": [
    "os.chdir(\"D:\\\\TSBOOKDATA\\\\Chap8\") #改变工作目录 "
   ]
  },
  {
   "cell_type": "markdown",
   "id": "696918e4",
   "metadata": {},
   "source": [
    "### 例8.1"
   ]
  },
  {
   "cell_type": "markdown",
   "id": "e77d2dd6",
   "metadata": {},
   "source": [
    "cpi_data = np.loadtxt(\"nzcpi.txt\")  \n",
    "index = pd.date_range(start=\"1970-03\",end=\"2012-06\",freq=\"Q\")  \n",
    "cpi_df = pd.Series(cpi_data,index=index)  \n",
    "cpi_diff = cpi_df.diff().dropna()  "
   ]
  },
  {
   "cell_type": "markdown",
   "id": "ca3a29e2",
   "metadata": {},
   "source": [
    "fig, ax = plt.subplots(1, figsize=(12, 4), dpi=150)  \n",
    "ax.plot(cpi_diff**2,linestyle=\"-\", color=\"green\")  \n",
    "plt.xticks(fontsize=15); plt.yticks(fontsize=15)  \n",
    "plt.xlabel(xlabel=\"时间\",fontsize=17)  \n",
    "plt.ylabel(ylabel=\"残差平方\",fontsize=17)  \n",
    "plt.tight_layout(); plt.savefig(\"fig/8_1.png\")  "
   ]
  },
  {
   "cell_type": "markdown",
   "id": "d4181e3c",
   "metadata": {},
   "source": [
    "### 例8.2"
   ]
  },
  {
   "cell_type": "markdown",
   "id": "26762891",
   "metadata": {},
   "source": [
    "exrate_data = pd.read_csv(\"ex_rate.csv\")[\"exchangerate\"].values  \n",
    "exrate_df = pd.Series(exrate_data).dropna()  \n",
    "exrate_diff = exrate_df.diff()**2  "
   ]
  },
  {
   "cell_type": "markdown",
   "id": "c737116a",
   "metadata": {},
   "source": [
    "fig = plt.figure(figsize=(12, 6), dpi=150)  \n",
    "ax1 = fig.add_subplot(211)  \n",
    "ax1.plot(exrate_df, linestyle=\"-\", color=\"green\")  \n",
    "plt.xlabel(xlabel=\"时间\", fontsize=17)  \n",
    "plt.ylabel(ylabel=\"汇率的对数\", fontsize=17)  \n",
    "plt.xticks(fontsize=15); plt.yticks(fontsize=15)  \n",
    "ax2 = fig.add_subplot(212)  \n",
    "ax2.plot(exrate_diff, linestyle=\"-\", color=\"blue\")  \n",
    "plt.xlabel(xlabel=\"时间\", fontsize=17)  \n",
    "plt.ylabel(ylabel=\"回报率\", fontsize=17)  \n",
    "plt.xticks(fontsize=15); plt.yticks(fontsize=15)  \n",
    "plt.tight_layout(); plt.savefig(\"fig/8_2.png\")  "
   ]
  },
  {
   "cell_type": "markdown",
   "id": "b3e93553",
   "metadata": {},
   "source": [
    "### 例8.3"
   ]
  },
  {
   "cell_type": "markdown",
   "id": "ef5190ab",
   "metadata": {},
   "source": [
    "earn_data = pd.read_csv(\"earnings.csv\", index_col=\"date\")[\"rate\"].values  \n",
    "earn_df = pd.Series(earn_data).interpolate()  "
   ]
  },
  {
   "cell_type": "markdown",
   "id": "319d26b5",
   "metadata": {},
   "source": [
    "fig, ax = plt.subplots(1, figsize=(12, 4), dpi=150)  \n",
    "ax.plot(earn_df,linestyle=\"-\", color=\"green\")  \n",
    "plt.xlabel(xlabel=\"时间\", fontsize=17)  \n",
    "plt.ylabel(ylabel=\"十年期美国国债收益率\", fontsize=17)  \n",
    "plt.xticks(fontsize=15); plt.yticks(fontsize=15)  \n",
    "plt.tight_layout(); plt.savefig(\"fig/8_3.png\")  "
   ]
  },
  {
   "cell_type": "markdown",
   "id": "71cd8eda",
   "metadata": {},
   "source": [
    "earn_log = np.log(earn_df)  \n",
    "earn_logdiff = earn_log.diff().dropna()  "
   ]
  },
  {
   "cell_type": "markdown",
   "id": "5fd67214",
   "metadata": {},
   "source": [
    "fig = plt.figure(figsize=(12,4),dpi=150)  \n",
    "ax1 = fig.add_subplot(121)  \n",
    "ax1.plot(earn_log, linestyle=\"-\", color=\"green\")  \n",
    "plt.xlabel(xlabel=\"时间\", fontsize=17)  \n",
    "plt.ylabel(ylabel=\"收益率的对数\", fontsize=17)  \n",
    "plt.xticks(fontsize=15); plt.yticks(fontsize=15)  \n",
    "ax2 = fig.add_subplot(122)  \n",
    "ax2.plot(earn_logdiff, linestyle=\"-\", color=\"blue\")  \n",
    "plt.xlabel(xlabel=\"时间\", fontsize=17)  \n",
    "plt.ylabel(ylabel=\"一阶差分\", fontsize=17)  \n",
    "plt.xticks(fontsize=15); plt.yticks(fontsize=15)  \n",
    "plt.tight_layout(); plt.savefig(\"fig/8_4.png\")  "
   ]
  },
  {
   "cell_type": "markdown",
   "id": "fa83a924",
   "metadata": {},
   "source": [
    "acorr_ljungbox(earn_logdiff,lags = [6,12], boxpierce=True, return_df=True)  "
   ]
  },
  {
   "cell_type": "markdown",
   "id": "c7742e70",
   "metadata": {},
   "source": [
    "### 例8.4"
   ]
  },
  {
   "cell_type": "markdown",
   "id": "1a806b13",
   "metadata": {},
   "source": [
    "index_data = pd.read_csv(\"income_index.csv\", usecols=[\"BAMLHE00EHYITRIV\"])  \n",
    "index_diff = index_data.diff().dropna()  "
   ]
  },
  {
   "cell_type": "markdown",
   "id": "9f15e2c4",
   "metadata": {},
   "source": [
    "fig, ax = plt.subplots(1, figsize=(12, 4), dpi=150)  \n",
    "ax.plot(index_diff**2, linestyle=\"-\", color=\"green\")  \n",
    "plt.xlabel(xlabel=\"时间\", fontsize=17)  \n",
    "plt.ylabel(ylabel=\"一阶差分的平方\", fontsize=17)  \n",
    "plt.xticks(fontsize=15); plt.yticks(fontsize=15)  \n",
    "plt.tight_layout(); plt.savefig(\"fig/8_5.png\")  "
   ]
  },
  {
   "cell_type": "markdown",
   "id": "f46592e1",
   "metadata": {},
   "source": [
    "from statsmodels.stats.diagnostic import acorr_lm  "
   ]
  },
  {
   "cell_type": "markdown",
   "id": "19704d79",
   "metadata": {},
   "source": [
    "for n in (1,2,3,4,5):  \n",
    "&ensp;&ensp;&ensp;&ensp;alm = acorr_lm(index_diff,nlags=n)[0:2]  \n",
    "&ensp;&ensp;&ensp;&ensp;print(alm)  "
   ]
  },
  {
   "cell_type": "markdown",
   "id": "327357bb",
   "metadata": {},
   "source": [
    "acorr_ljungbox(index_diff**2,lags = [1,2,3,4,5],boxpierce=True,return_df=True)  "
   ]
  },
  {
   "cell_type": "markdown",
   "id": "e98b36dc",
   "metadata": {},
   "source": [
    "from arch.univariate import arch_model  "
   ]
  },
  {
   "cell_type": "markdown",
   "id": "77aa3097",
   "metadata": {},
   "source": [
    "am = arch_model(index_diff,mean='Zero',vol='ARCH',p=2).fit(disp=\"off\")  \n",
    "print(am.summary().tables[1])  "
   ]
  },
  {
   "cell_type": "markdown",
   "id": "7df042ac",
   "metadata": {},
   "source": [
    "### 例8.5"
   ]
  },
  {
   "cell_type": "markdown",
   "id": "e5263815",
   "metadata": {},
   "source": [
    "cufer = pd.read_csv(\"CUFER.csv\",usecols=[\"DEXCHUS\"]).interpolate()  \n",
    "ut = cufer.diff().dropna()  "
   ]
  },
  {
   "cell_type": "markdown",
   "id": "e7a9f3c4",
   "metadata": {},
   "source": [
    "fig = plt.figure(figsize=(12,4), dpi=150)  \n",
    "ax1 = fig.add_subplot(121)  \n",
    "ax1.plot(cufer,linestyle=\"-\",color='blue')  \n",
    "ax1.set_ylabel(ylabel=\"中/美外汇汇率 \", fontsize=17)  \n",
    "ax1.set_xlabel(xlabel=\"时间\",fontsize=17)  \n",
    "plt.xticks(fontsize=15); plt.yticks(fontsize=15)  \n",
    "ax2 = fig.add_subplot(122)  \n",
    "ax2.plot(ut,linestyle=\"-\", color='green')  \n",
    "ax2.set_ylabel(ylabel=\"一阶差分\", fontsize=17)  \n",
    "ax2.set_xlabel(xlabel=\"时间\",fontsize=17)  \n",
    "plt.xticks(fontsize=15); plt.yticks(fontsize=15)  \n",
    "fig.tight_layout(); plt.savefig(fname='fig/8_6.png')  "
   ]
  },
  {
   "cell_type": "markdown",
   "id": "b1224a4d",
   "metadata": {},
   "source": [
    "fig = plt.figure(figsize=(12,4), dpi=150)  \n",
    "ax1 = fig.add_subplot(121)  \n",
    "ACF(ut, lag=31)  \n",
    "ax2 = fig.add_subplot(122)  \n",
    "PACF(ut, lag=31, xlabel='lag', fname='fig/8_7.png')  "
   ]
  },
  {
   "cell_type": "markdown",
   "id": "95154902",
   "metadata": {},
   "source": [
    "ut_est = ARIMA(ut,trend='n', order=(3,0,0)).fit()  \n",
    "print(ut_est.summary().tables[1])  "
   ]
  },
  {
   "cell_type": "markdown",
   "id": "52b8e119",
   "metadata": {},
   "source": [
    "vt = ut_est.resid  \n",
    "acorr_ljungbox(vt, lags = [2,4], boxpierce=True, return_df=True)  "
   ]
  },
  {
   "cell_type": "markdown",
   "id": "79e4fe42",
   "metadata": {},
   "source": [
    "acorr_ljungbox(vt**2, lags = [2,4], boxpierce=True, return_df=True)  "
   ]
  },
  {
   "cell_type": "markdown",
   "id": "fd6fa756",
   "metadata": {},
   "source": [
    "vt_model = arch_model(vt, mean='Zero', vol=\"GARCH\").fit(disp=\"off\")  \n",
    "print(vt_model.summary().tables[1])  "
   ]
  },
  {
   "cell_type": "markdown",
   "id": "aa0b767e",
   "metadata": {},
   "source": [
    "xgmf = vt_model.conditional_volatility  \n",
    "ypsw = vt/(np.sqrt(xgmf))  \n",
    "acorr_ljungbox(ypsw, lags = [2,4,6,8], boxpierce=True, return_df=True)  "
   ]
  },
  {
   "cell_type": "markdown",
   "id": "4b8ee00e",
   "metadata": {},
   "source": [
    "acorr_ljungbox(ypsw**2, lags = [2,4,6,8], boxpierce=True, return_df=True)  "
   ]
  },
  {
   "cell_type": "markdown",
   "id": "152da527",
   "metadata": {},
   "source": [
    "import scipy.stats as st  "
   ]
  },
  {
   "cell_type": "markdown",
   "id": "2a800d44",
   "metadata": {},
   "source": [
    "fig = plt.figure(figsize=(12, 4),dpi=150)  \n",
    "ax1 = fig.add_subplot(121)  \n",
    "res1 = st.probplot(ypsw, plot=ax1)  \n",
    "ax1.set_ylabel(ylabel=\"Ordered Values\", fontsize=17)  \n",
    "ax1.set_xlabel(xlabel=\"Theoretical quantiles\", fontsize=17)  \n",
    "plt.xticks(fontsize=15); plt.yticks(fontsize=15)  \n",
    "ax2 = fig.add_subplot(122)  \n",
    "ax2.hist(ypsw, bins=360)  \n",
    "ax2.set_title('histogram', fontsize=17)  \n",
    "plt.xticks(fontsize=15); plt.yticks(fontsize=15)  \n",
    "plt.tight_layout(); plt.savefig(\"fig/8_8.png\")  "
   ]
  },
  {
   "cell_type": "markdown",
   "id": "c191f6e4",
   "metadata": {},
   "source": [
    "def self_JBtest(y):    \n",
    "&ensp;&ensp;&ensp;&ensp;n = y.size   \n",
    "&ensp;&ensp;&ensp;&ensp;ym = y - y.mean()    \n",
    "&ensp;&ensp;&ensp;&ensp;M2 = np.mean(ym \\** 2)    \n",
    "&ensp;&ensp;&ensp;&ensp;skew =  np.mean(ym \\** 3)/M2 \\** 1.5      \n",
    "&ensp;&ensp;&ensp;&ensp;krut = np.mean(ym \\** 4)/M2 \\** 2    \n",
    "&ensp;&ensp;&ensp;&ensp;JB = n \\* (skew \\** 2/6 + (krut-3 ) \\** 2/24)  \n",
    "&ensp;&ensp;&ensp;&ensp;pvalue = 1 - st.chi2.cdf(JB,df=2)  \n",
    "&ensp;&ensp;&ensp;&ensp;print(\"偏度：\",st.skew(y),skew)  \n",
    "&ensp;&ensp;&ensp;&ensp;print(\"峰值：\",st.kurtosis(y)+3,krut)  \n",
    "&ensp;&ensp;&ensp;&ensp;print(\"JB检验：\",st.jarque_bera(y))  \n",
    "&ensp;&ensp;&ensp;&ensp;return np.array([JB,pvalue])  "
   ]
  },
  {
   "cell_type": "markdown",
   "id": "ff0f744f",
   "metadata": {},
   "source": [
    "print(self_JBtest(ypsw))  "
   ]
  }
 ],
 "metadata": {
  "kernelspec": {
   "display_name": "Python 3 (ipykernel)",
   "language": "python",
   "name": "python3"
  },
  "language_info": {
   "codemirror_mode": {
    "name": "ipython",
    "version": 3
   },
   "file_extension": ".py",
   "mimetype": "text/x-python",
   "name": "python",
   "nbconvert_exporter": "python",
   "pygments_lexer": "ipython3",
   "version": "3.9.11"
  }
 },
 "nbformat": 4,
 "nbformat_minor": 5
}
