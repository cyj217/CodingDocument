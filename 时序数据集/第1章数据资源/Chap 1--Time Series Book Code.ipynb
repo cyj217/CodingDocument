{
 "cells": [
  {
   "cell_type": "markdown",
   "id": "8ca1d4f8",
   "metadata": {},
   "source": [
    "# 第一章 "
   ]
  },
  {
   "cell_type": "markdown",
   "id": "8f95ffd0",
   "metadata": {},
   "source": [
    "### 例1.1"
   ]
  },
  {
   "cell_type": "markdown",
   "id": "9ca146c5",
   "metadata": {},
   "source": [
    "import os; os.chdir(\"D:\\\\TSBOOKDATA\\\\Chap1\") #改变工作目录             \n",
    "import numpy as np; import pandas as pd  \n",
    "import warnings; warnings.filterwarnings(\"ignore\") #忽略警告信息  "
   ]
  },
  {
   "cell_type": "markdown",
   "id": "bf512839",
   "metadata": {},
   "source": [
    "%matplotlib inline          \n",
    "from matplotlib import pyplot as plt  \n",
    "plt.rcParams['axes.unicode_minus']=False   \n",
    "plt.rcParams['font.family'] = \"simsun\"   #设置字体为 simsun  \n",
    "plt.style.use('ggplot')             #设置背景样式  "
   ]
  },
  {
   "cell_type": "markdown",
   "id": "9f89047b",
   "metadata": {},
   "source": [
    "GDP = pd.read_csv('ChinaGDP.csv',index_col=0,squeeze=True)  "
   ]
  },
  {
   "cell_type": "markdown",
   "id": "d56a43af",
   "metadata": {},
   "source": [
    "fig = plt.figure(figsize=(12,4),dpi=150)  \n",
    "ax = fig.add_subplot(111)  \n",
    "ax.plot(GDP,marker=\"o\",linestyle=\"-\",color='blue')  \n",
    "ax.set_ylabel(ylabel=\"国内生产总值(单位:亿元)\",fontsize=17)  \n",
    "ax.set_xlabel(xlabel=\"时间\",fontsize=17)  \n",
    "plt.xticks(fontsize=15); plt.yticks(fontsize=15)  \n",
    "fig.tight_layout(); plt.savefig(fname='fig/1_1.png')  "
   ]
  },
  {
   "cell_type": "markdown",
   "id": "647595b2",
   "metadata": {},
   "source": [
    "GDPy = GDP[1::]; GDPx = GDP[:-1]  "
   ]
  },
  {
   "cell_type": "markdown",
   "id": "2272db9c",
   "metadata": {},
   "source": [
    "fig = plt.figure(figsize=(12,4),dpi=150)  \n",
    "ax = fig.add_subplot(111)  \n",
    "ax.scatter(y=GDPy,x=GDPx,color='b',marker='o')  \n",
    "ax.set_ylabel(ylabel=\"当年 GDP\",fontsize=17)  \n",
    "ax.set_xlabel(xlabel=\"上一年 GDP\",fontsize=17)  \n",
    "plt.xticks(fontsize=15); plt.yticks(fontsize=15)  \n",
    "fig.tight_layout(); plt.savefig(fname='fig/1_2.png')  \n",
    "plt.show(); plt.close()  "
   ]
  },
  {
   "cell_type": "markdown",
   "id": "2935184f",
   "metadata": {},
   "source": [
    "### 例1.2"
   ]
  },
  {
   "cell_type": "markdown",
   "id": "5428a1bf",
   "metadata": {},
   "source": [
    "Dubic = np.loadtxt(\"DubicCity.txt\") #读入 .txt 格式数据  \n",
    "Index = pd.date_range(start=\"1964-01\", end=\"1976-01\", freq=\"M\")  \n",
    "Dubic_ts = pd.Series(Dubic,index=Index) #建立时间序列  "
   ]
  },
  {
   "cell_type": "markdown",
   "id": "c7bc98d5",
   "metadata": {},
   "source": [
    "fig = plt.figure(figsize=(12,4),dpi=150)  \n",
    "ax = fig.add_subplot(111)  \n",
    "ax.plot(Dubic_ts,marker=\"o\", linestyle=\"-\", color='blue')  \n",
    "ax.set_ylabel(ylabel=\"气温\", fontsize=17)  \n",
    "ax.set_xlabel(xlabel=\"年份\", fontsize=17)  \n",
    "plt.xticks(fontsize=15); plt.yticks(fontsize=15)  \n",
    "fig.tight_layout(); plt.savefig(fname='fig/1_3.png')  "
   ]
  },
  {
   "cell_type": "markdown",
   "id": "1ef524bb",
   "metadata": {},
   "source": [
    "### 例1.3"
   ]
  },
  {
   "cell_type": "markdown",
   "id": "d8416e58",
   "metadata": {},
   "source": [
    "LosAngeles = np.loadtxt(\"LosAngeles.txt\")   \n",
    "LosTime = pd.date_range(start=\"1880\", end=\"1995\", freq=\"Y\")  \n",
    "LosAngeles_ts = pd.Series(LosAngeles, index=LosTime)   "
   ]
  },
  {
   "cell_type": "markdown",
   "id": "ae725e6d",
   "metadata": {
    "scrolled": true
   },
   "source": [
    "fig = plt.figure(figsize=(12,4), dpi=150)  \n",
    "ax = fig.add_subplot(111)  \n",
    "ax.plot(LosAngeles_ts, marker=\"o\", linestyle=\"-\", color='blue')  \n",
    "ax.set_ylabel(ylabel=\"降水量 (单位: 英寸)\", fontsize=17)  \n",
    "ax.set_xlabel(xlabel=\"年份\", fontsize=17)  \n",
    "plt.xticks(fontsize=15); plt.yticks(fontsize=15)  \n",
    "fig.tight_layout(); plt.savefig(fname='fig/1_4.png')  "
   ]
  },
  {
   "cell_type": "markdown",
   "id": "313a53a0",
   "metadata": {},
   "source": [
    "Losx = LosAngeles_ts[1::]; Losy = LosAngeles_ts[:-1]  "
   ]
  },
  {
   "cell_type": "markdown",
   "id": "9351f712",
   "metadata": {},
   "source": [
    "fig = plt.figure(figsize=(12,4), dpi=150)  \n",
    "ax = fig.add_subplot(111)  \n",
    "ax.scatter(y=Losy, x=Losx, color='b', marker='o')  \n",
    "ax.set_ylabel(ylabel=\"当年降水量 (单位:英寸)\", fontsize=17)  \n",
    "ax.set_xlabel(xlabel=\"上一年降水量 (单位:英寸)\", fontsize=17)  \n",
    "plt.xticks(fontsize=15); plt.yticks(fontsize=15)  \n",
    "fig.tight_layout(); plt.savefig(fname='fig/1_5.png')  "
   ]
  },
  {
   "cell_type": "markdown",
   "id": "7187381b",
   "metadata": {},
   "source": [
    "### 例1.5"
   ]
  },
  {
   "cell_type": "markdown",
   "id": "17ac043e",
   "metadata": {},
   "source": [
    "nzt = pd.read_csv(\"NZTravellersDestination.csv\")  \n",
    "nzt.head(2)  "
   ]
  },
  {
   "cell_type": "markdown",
   "id": "bcef216f",
   "metadata": {},
   "source": [
    "NtoC = pd.read_csv('NZTravellersDestination.csv', usecols=['Date','China'], parse_dates=['Date'], index_col='Date')  "
   ]
  },
  {
   "cell_type": "markdown",
   "id": "091bc1b0",
   "metadata": {},
   "source": [
    "fig = plt.figure(figsize=(12,4), dpi=150)  \n",
    "ax = fig.add_subplot(111)  \n",
    "ax.plot(NtoC, marker=\"o\", linestyle=\"-\", color='blue')  \n",
    "ax.set_ylabel(ylabel=\"人数\", fontsize=17)  \n",
    "ax.set_xlabel(xlabel=\"年份\", fontsize=17)  \n",
    "plt.xticks(fontsize=15); plt.yticks(fontsize=15)  \n",
    "fig.tight_layout(); plt.savefig(fname='fig/1_7.png')  "
   ]
  },
  {
   "cell_type": "markdown",
   "id": "7e0868e2",
   "metadata": {},
   "source": [
    "ucls = ['Date','China','India','UK','US']  \n",
    "NtoF = pd.read_csv('NZTravellersDestination.csv', usecols=ucls, parse_dates=['Date'], index_col='Date')  \n",
    "Date = NtoF.index; NtoC = NtoF.China.values  \n",
    "NtoI = NtoF.India.values; NtoU = NtoF.UK.values  \n",
    "NtoUS = NtoF.US.values  "
   ]
  },
  {
   "cell_type": "markdown",
   "id": "de1c53b3",
   "metadata": {},
   "source": [
    "new,(ax1,ax2,ax3,ax4) = plt.subplots(4, 1, sharex=True, figsize=(12,6), dpi=150)  \n",
    "ax1.plot(Date,NtoC, color='r',marker=\"o\")  \n",
    "ax1.set_ylabel(ylabel=\"中国\", fontsize=17)  \n",
    "ax2.plot(Date,NtoI, color='b',marker=\"o\")  \n",
    "ax2.set_ylabel(ylabel=\"印度\", fontsize=17)  \n",
    "ax3.plot(Date,NtoU, color='y', marker=\"o\")  \n",
    "ax3.set_ylabel(ylabel=\"英国\", fontsize=17)  \n",
    "ax4.plot(Date,NtoUS, color='g',marker=\"o\")  \n",
    "ax4.set_ylabel(ylabel=\"美国\", fontsize=17)  \n",
    "ax4.set_xlabel(xlabel=\"年份\", fontsize=17)  \n",
    "plt.xticks(fontsize=15); plt.yticks(fontsize=15)  \n",
    "fig.tight_layout(); plt.savefig(fname='fig/1_8.png')  "
   ]
  },
  {
   "cell_type": "markdown",
   "id": "ded74cff",
   "metadata": {},
   "source": [
    "### 例1.6"
   ]
  },
  {
   "cell_type": "markdown",
   "id": "9710da1b",
   "metadata": {},
   "source": [
    "import matplotlib.ticker as ticker  \n",
    "bjch = pd.read_csv('BJCH.csv', encoding = 'utf-8')  \n",
    "for f in bjch:                       #线性插值  \n",
    "&ensp;&ensp;&ensp;&ensp;&ensp;&ensp;bjch[f] = bjch[f].interpolate()    \n",
    "&ensp;&ensp;&ensp;&ensp;&ensp;&ensp;bjch.dropna(inplace=True)    \n",
    "xlabs = bjch.Time; ticker_spacing = xlabs; ticker_spacing = 5  \n",
    "fig = plt.figure(figsize=(12,4), dpi=150)  \n",
    "ax = fig.add_subplot(111)   \n",
    "ax.plot(xlabs, bjch.CCA, color='b', marker='o')  \n",
    "ax.xaxis.set_major_locator(ticker.MultipleLocator(ticker_spacing))  \n",
    "ax.vlines(x=['2020/04','2020/09'],ymin=5230,ymax=6250,color=\"g\",linestyle='--')  \n",
    "ax.hlines(y=[5250,6250],xmin='2020/04',xmax='2020/09',color=\"g\",linestyle='--')  \n",
    "ax.set_xlabel(xlabel='时间', fontsize=17)  \n",
    "ax.set_ylabel(ylabel='施工面积累计值', fontsize=17)  \n",
    "plt.xticks(fontsize=15); plt.yticks(fontsize=15)  \n",
    "fig.tight_layout(); plt.savefig(fname='fig/1_9.png')  "
   ]
  },
  {
   "cell_type": "markdown",
   "id": "7a1c0a19",
   "metadata": {},
   "source": [
    "### 例1.7"
   ]
  },
  {
   "cell_type": "markdown",
   "id": "b0ba3736",
   "metadata": {},
   "source": [
    "from statsmodels.tsa.stattools import acf  "
   ]
  },
  {
   "cell_type": "markdown",
   "id": "28d3ff51",
   "metadata": {},
   "source": [
    "def ACF(ts, lag=20, fname=\" \"):  \n",
    "&ensp;&ensp;&ensp;lag_acf = acf(ts, nlags=lag, fft=False)       \n",
    "&ensp;&ensp;&ensp;plt.vlines(x=list(range(lag+1)), ymin=np.zeros(lag+1), ymax=lag_acf, linewidth=2.0, color='black')  \n",
    "&ensp;&ensp;&ensp;plt.axhline(y=0, linestyle=':', color='blue')  \n",
    "&ensp;&ensp;&ensp;plt.axhline(y=-1.96/np.sqrt(len(ts)), linestyle='--', color='red')  \n",
    "&ensp;&ensp;&ensp;plt.axhline(y=1.96/np.sqrt(len(ts)), linestyle='--', color='red')  \n",
    "&ensp;&ensp;&ensp;plt.title(''); plt.xticks(fontsize=15); plt.yticks(fontsize=15)  \n",
    "&ensp;&ensp;&ensp;plt.xlabel(xlabel=\"lag\", fontsize=17)  \n",
    "&ensp;&ensp;&ensp;plt.ylabel(ylabel=\"ACF\", fontsize=17)  \n",
    "&ensp;&ensp;&ensp;plt.tight_layout(); plt.savefig(fname=fname)  "
   ]
  },
  {
   "cell_type": "markdown",
   "id": "9fb40311",
   "metadata": {},
   "source": [
    "fig = plt.figure(figsize=(12,4), dpi=150)  \n",
    "ax = fig.add_subplot(111)  \n",
    "ACF(bjch['CCA'], lag=30, fname=\"fig/1_10.png\")  "
   ]
  },
  {
   "cell_type": "markdown",
   "id": "696dd0e0",
   "metadata": {},
   "source": [
    "### 例1.8"
   ]
  },
  {
   "cell_type": "markdown",
   "id": "1aa826a8",
   "metadata": {},
   "source": [
    "NingXiaGDP = pd.read_excel('ningxiaGDP.xlsx', index_col=0, squeeze=True)  "
   ]
  },
  {
   "cell_type": "markdown",
   "id": "51bfa8c3",
   "metadata": {},
   "source": [
    "fig = plt.figure(figsize=(12,4), dpi=150)  \n",
    "ax = fig.add_subplot(111)  \n",
    "ax.plot(NingXiaGDP, marker=\"o\", linestyle=\"-\", color='blue')  \n",
    "ax.xaxis.set_major_locator(ticker.MultipleLocator(4))  \n",
    "ax.set_ylabel(ylabel=\"宁夏生产总值(单位:亿元)\", fontsize=17)  \n",
    "ax.set_xlabel(xlabel=\"年份\", fontsize=17)  \n",
    "plt.xticks(fontsize=15); plt.yticks(fontsize=15)  \n",
    "fig.tight_layout(); plt.savefig(fname='fig/1_11.png')  "
   ]
  },
  {
   "cell_type": "markdown",
   "id": "3bf09dae",
   "metadata": {},
   "source": [
    "### 例1.9"
   ]
  },
  {
   "cell_type": "markdown",
   "id": "d4c723d8",
   "metadata": {},
   "source": [
    "col = [\"Date\",\"LosAngelesMax\",\"LosAngelesMin\"]  \n",
    "LosTemp = pd.read_csv('LosTemp.csv', usecols=col, index_col= 0)  "
   ]
  },
  {
   "cell_type": "markdown",
   "id": "495d8217",
   "metadata": {},
   "source": [
    "fig = plt.figure(figsize=(12,4), dpi=150)  \n",
    "ax = fig.add_subplot(111)  \n",
    "LosTemp.plot(ax=ax,color=['r','b'],marker='o')  \n",
    "ax.set_ylabel(ylabel=\"温度\", fontsize=17)  \n",
    "ax.set_xlabel(xlabel=\"时间\", fontsize=17)  \n",
    "ax.legend(loc=2,fontsize=12)  \n",
    "plt.xticks(fontsize=15); plt.yticks(fontsize=15)  \n",
    "fig.tight_layout(); plt.savefig(fname='fig/1_12.png')  "
   ]
  },
  {
   "cell_type": "markdown",
   "id": "dab6c9a4",
   "metadata": {},
   "source": [
    "### 例1.10-11"
   ]
  },
  {
   "cell_type": "markdown",
   "id": "0a14d432",
   "metadata": {},
   "source": [
    "NxGDP = pd.read_excel('ningxiaGDP.xlsx')    \n",
    "NtoCh = pd.read_csv('NZTravellersDestination.csv',usecols=['China'])    "
   ]
  },
  {
   "cell_type": "markdown",
   "id": "2179f807",
   "metadata": {},
   "source": [
    "fig = plt.figure(figsize=(12,4), dpi=150)  \n",
    "ax1 = fig.add_subplot(121)  \n",
    "ACF(NxGDP['Ningxia'], lag=15)  \n",
    "ax2 = fig.add_subplot(122)  \n",
    "ACF(NtoCh['China'],lag=100,fname=\"fig/1_14.png\")  "
   ]
  },
  {
   "cell_type": "markdown",
   "id": "0cd510c6",
   "metadata": {},
   "source": [
    "### 例1.12-13"
   ]
  },
  {
   "cell_type": "markdown",
   "id": "bebf0ba0",
   "metadata": {},
   "source": [
    "LosTemp = pd.read_csv('LosTemp.csv')  \n",
    "LosRain = np.loadtxt('LosAngeles.txt')  "
   ]
  },
  {
   "cell_type": "markdown",
   "id": "795e6f18",
   "metadata": {},
   "source": [
    "fig = plt.figure(figsize=(12,4), dpi=150)  \n",
    "ax1 = fig.add_subplot(121)  \n",
    "ACF(LosTemp[\"LosAngelesMax\"], lag=100)  \n",
    "ax2 = fig.add_subplot(122)  \n",
    "ACF(LosRain, lag=100, fname=\"fig/1_16.png\")  "
   ]
  },
  {
   "cell_type": "markdown",
   "id": "7b1cba95",
   "metadata": {},
   "source": [
    "### 例1.14"
   ]
  },
  {
   "cell_type": "markdown",
   "id": "2a1c8b3c",
   "metadata": {},
   "source": [
    "np.random.seed(15)  \n",
    "white_noise = np.random.randn(500)  "
   ]
  },
  {
   "cell_type": "markdown",
   "id": "08c4b3c6",
   "metadata": {},
   "source": [
    "fig = plt.figure(figsize=(12,4), dpi=150)  \n",
    "ax1 = fig.add_subplot(121)  \n",
    "ax1.plot(white_noise, marker=\"o\", linestyle=\"--\", color=\"b\")  \n",
    "ax1.set_ylabel(ylabel='white_noise', fontsize=17)  \n",
    "ax1.set_xlabel(xlabel='Time', fontsize=17)  \n",
    "plt.xticks(fontsize=15); plt.yticks(fontsize=15)  \n",
    "ax2 = fig.add_subplot(122)  \n",
    "ACF(white_noise, lag=100, fname='fig/1_17.png')  "
   ]
  },
  {
   "cell_type": "markdown",
   "id": "fe665dbb",
   "metadata": {},
   "source": [
    "### 例1.15"
   ]
  },
  {
   "cell_type": "markdown",
   "id": "1a1605d1",
   "metadata": {},
   "source": [
    "from statsmodels.stats.diagnostic import acorr_ljungbox   \n",
    "acorr_ljungbox(white_noise, lags = [6, 12], boxpierce=True, return_df=True)  "
   ]
  },
  {
   "cell_type": "markdown",
   "id": "8fd658b5",
   "metadata": {},
   "source": [
    "### 例1.16"
   ]
  },
  {
   "cell_type": "markdown",
   "id": "a805697c",
   "metadata": {},
   "source": [
    "ratio = pd.read_csv('Centenarians.csv', usecols=['Year','ratio'], parse_dates=['Year'], index_col='Year')  "
   ]
  },
  {
   "cell_type": "markdown",
   "id": "33de5364",
   "metadata": {},
   "source": [
    "fig = plt.figure(figsize=(12,4), dpi=150)  \n",
    "ax1 = fig.add_subplot(121)  \n",
    "ax1.plot(ratio, marker=\"o\", linestyle=\"--\", color=\"b\")  \n",
    "ax1.set_ylabel(ylabel='Ratio', fontsize=17)  \n",
    "ax1.set_xlabel(xlabel='Year', fontsize=17)  \n",
    "plt.xticks(fontsize=15); plt.yticks(fontsize=15)  \n",
    "ax2 = fig.add_subplot(122)  \n",
    "ACF(ratio, lag=10, fname='fig/1_18.png')  "
   ]
  },
  {
   "cell_type": "markdown",
   "id": "76bd762b",
   "metadata": {},
   "source": [
    "acorr_ljungbox(ratio, lags = [5, 10], boxpierce=True, return_df=True)  "
   ]
  }
 ],
 "metadata": {
  "kernelspec": {
   "display_name": "Python 3 (ipykernel)",
   "language": "python",
   "name": "python3"
  },
  "language_info": {
   "codemirror_mode": {
    "name": "ipython",
    "version": 3
   },
   "file_extension": ".py",
   "mimetype": "text/x-python",
   "name": "python",
   "nbconvert_exporter": "python",
   "pygments_lexer": "ipython3",
   "version": "3.9.11"
  }
 },
 "nbformat": 4,
 "nbformat_minor": 5
}
