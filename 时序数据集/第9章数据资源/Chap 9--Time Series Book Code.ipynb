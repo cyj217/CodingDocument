{
 "cells": [
  {
   "cell_type": "markdown",
   "id": "d8be1222",
   "metadata": {},
   "source": [
    "# 第九章"
   ]
  },
  {
   "cell_type": "markdown",
   "id": "94daaa0b",
   "metadata": {},
   "source": [
    "os.chdir(\"D:\\\\TSBOOKDATA\\\\Chap9\") #改变工作目录   "
   ]
  },
  {
   "cell_type": "markdown",
   "id": "fb7d9711",
   "metadata": {},
   "source": [
    "### 图9.1"
   ]
  },
  {
   "cell_type": "markdown",
   "id": "c23e205b",
   "metadata": {},
   "source": [
    "def func(t,n=3):    \n",
    "&ensp;&ensp;&ensp;&ensp;sum = 0   \n",
    "&ensp;&ensp;&ensp;&ensp;fi = 0.2 \\* n           \n",
    "&ensp;&ensp;&ensp;&ensp;A = np.sqrt((2\\* n) \\** 2+(2\\* n+1) \\** 2)    \n",
    "&ensp;&ensp;&ensp;&ensp;for i in range(1,n+1):    \n",
    "&ensp;&ensp;&ensp;&ensp;&ensp;&ensp;&ensp;&ensp;sum = sum + A \\* np.cos(2 \\* np.pi \\* t\\* 6\\* (2\\* n+1)/100 + fi)    \n",
    "&ensp;&ensp;&ensp;&ensp;return sum      "
   ]
  },
  {
   "cell_type": "markdown",
   "id": "cdd0a02b",
   "metadata": {},
   "source": [
    "t = np.arange(1,51)  \n",
    "z = func(t)  "
   ]
  },
  {
   "cell_type": "markdown",
   "id": "7343cd78",
   "metadata": {},
   "source": [
    "fig, ax = plt.subplots(1, figsize=(12, 4),dpi=150)  \n",
    "ax.plot(t,z,linestyle=\"-\",color=\"blue\",marker='o')  \n",
    "plt.xticks(fontsize=15);plt.yticks(fontsize=15)  \n",
    "plt.xlabel(xlabel=\"t\",fontsize=17)  \n",
    "plt.ylabel(ylabel=\"values\",fontsize=17)  \n",
    "plt.tight_layout();plt.savefig(\"fig/9_1.png\")  "
   ]
  },
  {
   "cell_type": "markdown",
   "id": "2e72bfdb",
   "metadata": {},
   "source": [
    "### 图9.2"
   ]
  },
  {
   "cell_type": "markdown",
   "id": "85d4d2e9",
   "metadata": {},
   "source": [
    "t = np.arange(0,9)    \n",
    "x = np.arange(0,8,0.01)    \n",
    "a = 0.25; b = 0.75    \n",
    "y1 = np.cos(2\\* np.pi\\* x\\* a)  \n",
    "y2 = np.cos(2\\* np.pi\\* x\\* b)  \n",
    "y3 = np.cos(2\\* np.pi\\* t\\* a)  "
   ]
  },
  {
   "cell_type": "markdown",
   "id": "b084c868",
   "metadata": {},
   "source": [
    "fig = plt.figure(figsize=(12,4),dpi=150)  \n",
    "ax = fig.add_subplot(111)  \n",
    "ax.plot(x,y1,linestyle=\"-\",color='blue')  \n",
    "ax.plot(x,y2,linestyle=\"-.\",color='green')  \n",
    "ax.scatter(t,y3,marker=\"o\",color=\"blue\")  \n",
    "plt.legend(loc=3,labels=['$\\omega=1/4$','$\\omega=3/4$'],fontsize=15)  \n",
    "ax.set_ylabel(ylabel=\"余弦值 \",fontsize=17)  \n",
    "ax.set_xlabel(xlabel=\"离散时间\",fontsize=17)  \n",
    "plt.xticks(fontsize=15);plt.yticks(fontsize=15)  \n",
    "fig.tight_layout();plt.savefig(fname='fig/9_2.png')  "
   ]
  },
  {
   "cell_type": "markdown",
   "id": "1cfc3d39",
   "metadata": {},
   "source": [
    "### 例9.1"
   ]
  },
  {
   "cell_type": "markdown",
   "id": "e2d7e410",
   "metadata": {},
   "source": [
    "def cosz(n,T=100):  \n",
    "&ensp;&ensp;&ensp;&ensp;t = np.arange(1,T+1)  \n",
    "&ensp;&ensp;&ensp;&ensp;alpha = 2\\* np.pi\\* t\\* (6\\* (2\\* n+1)/100)  \n",
    "&ensp;&ensp;&ensp;&ensp;x = np.sqrt((2\\* n)\\** 2+(2\\* n+1)\\** 2)\\* np.cos(alpha+n/5)    \n",
    "&ensp;&ensp;&ensp;&ensp;return x  "
   ]
  },
  {
   "cell_type": "markdown",
   "id": "f9d19ee7",
   "metadata": {},
   "source": [
    "sum = np.zeros(100)  \n",
    "for n in range(1,4):  \n",
    "&ensp;&ensp;&ensp;&ensp;sum = sum + cosz(n,100)      "
   ]
  },
  {
   "cell_type": "markdown",
   "id": "dd1dbec7",
   "metadata": {},
   "source": [
    "freqs = np.linspace(0, 0.5, 51)  \n",
    "xf = np.abs(np.fft.rfft(sum)\\* (2/100))\\** 2  "
   ]
  },
  {
   "cell_type": "markdown",
   "id": "697ce83a",
   "metadata": {},
   "source": [
    "fig = plt.figure(figsize=(12,4),dpi=150)  \n",
    "ax = fig.add_subplot(111)  \n",
    "ax.plot(freqs,xf,marker=\"o\",linestyle=\"-\",color='blue')  \n",
    "ax.set_ylabel(ylabel=\"周期图的值\",fontsize=17)  \n",
    "ax.set_xlabel(xlabel=\"频率\",fontsize=17)  \n",
    "plt.xticks(fontsize=15);plt.yticks(fontsize=15)  \n",
    "fig.tight_layout();plt.savefig(fname='fig/9_3.png')  "
   ]
  },
  {
   "cell_type": "markdown",
   "id": "2af71e0a",
   "metadata": {},
   "source": [
    "### 图9.4"
   ]
  },
  {
   "cell_type": "markdown",
   "id": "2ecf7467",
   "metadata": {},
   "source": [
    "w = np.arange(0,0.5,0.001)    \n",
    "def f(s):    \n",
    "&ensp;&ensp;&ensp;&ensp;f = 1+s\\** 2-2\\* s\\* np.cos(2\\* np.pi\\* w)  \n",
    "&ensp;&ensp;&ensp;&ensp;return f  "
   ]
  },
  {
   "cell_type": "markdown",
   "id": "6c5f197d",
   "metadata": {},
   "source": [
    "fig = plt.figure(figsize=(12,4),dpi=150)  \n",
    "ax = fig.add_subplot(111)  \n",
    "ax.plot(w,f(0.9),linestyle=\"-\",color='blue')  \n",
    "ax.plot(w,f(-0.9),linestyle=\"-.\",color='green')\n",
    "ax.legend(loc=6,labels=['$\\theta_{1} =0.9$','$\\theta_{1}=-0.9$'],fontsize=15)  \n",
    "ax.set_ylabel(ylabel=\"谱密度\",fontsize=17)  \n",
    "ax.set_xlabel(xlabel=\"频率\",fontsize=17)  \n",
    "plt.xticks(fontsize=15);plt.yticks(fontsize=15)  \n",
    "fig.tight_layout();plt.savefig(fname='fig/9_4.png')  "
   ]
  },
  {
   "cell_type": "markdown",
   "id": "16b015c3",
   "metadata": {},
   "source": [
    "### 图9.5"
   ]
  },
  {
   "cell_type": "markdown",
   "id": "386b13d2",
   "metadata": {},
   "source": [
    "w = np.arange(0,0.5,0.001)  \n",
    "def f(s,t):  \n",
    "&ensp;&ensp;&ensp;&ensp;f = 1/(1+s\\** 2+t\\** 2-2\\* s\\* (1-t)\\* np.cos(2\\* np.pi\\* w)-2\\* t\\* np.cos(4\\* np.pi\\* w))  \n",
    "&ensp;&ensp;&ensp;&ensp;return f  "
   ]
  },
  {
   "cell_type": "markdown",
   "id": "4df14745",
   "metadata": {},
   "source": [
    "fig = plt.figure(figsize=(12,4),dpi=150)  \n",
    "ax = fig.add_subplot(111)  \n",
    "ax.plot(w,f(1.5,-0.75),linestyle=\"-\",color='blue')  \n",
    "ax.plot(w,f(0.1,0.8),linestyle=\"-.\",color='green')  \n",
    "ax.legend(loc=1,labels=['$\\phi_{1} =1.5,\\phi_{2}=-0.75$','$\\phi_{1} =0.1,\\phi_{2}=0.8$'],fontsize=15)  \n",
    "ax.set_ylabel(ylabel=\"谱密度\",fontsize=17)  \n",
    "ax.set_xlabel(xlabel=\"频率\",fontsize=17)  \n",
    "plt.xticks(fontsize=15);plt.yticks(fontsize=15)  \n",
    "fig.tight_layout();plt.savefig(fname='fig/9_5.png')  "
   ]
  },
  {
   "cell_type": "markdown",
   "id": "7db0c075",
   "metadata": {},
   "source": [
    "### 图9.6"
   ]
  },
  {
   "cell_type": "markdown",
   "id": "4ddd65e2",
   "metadata": {},
   "source": [
    "w = np.arange(0,0.5,0.001)  \n",
    "def f(s,t):  \n",
    "&ensp;&ensp;&ensp;&ensp;f = 1/((1+s\\** 2-2\\* s\\* np.cos(2\\* np.pi\\* w))\\* (1+t\\** 2-2\\* t\\* np.cos(24\\* np.pi\\* w)))  \n",
    "&ensp;&ensp;&ensp;&ensp;return f  "
   ]
  },
  {
   "cell_type": "markdown",
   "id": "594275d6",
   "metadata": {},
   "source": [
    "def g(s,t):  \n",
    "&ensp;&ensp;&ensp;&ensp;g = (1+s\\** 2-2\\* s\\* np.cos(2\\* np.pi\\* w))\\* (1+t\\** 2-2\\* t\\* np.cos(24\\* np.pi\\* w))  \n",
    "&ensp;&ensp;&ensp;&ensp;return g  "
   ]
  },
  {
   "cell_type": "markdown",
   "id": "2ed95f4f",
   "metadata": {},
   "source": [
    "fig = plt.figure(figsize=(12,8),dpi=150)  \n",
    "ax1 = fig.add_subplot(211)  \n",
    "ax1.plot(w,f(0.5,0.9),linestyle=\"-\",color='blue')  \n",
    "ax1.legend(loc=1,labels=['$\\phi_{1} =0.5,\\Phi_{1}=0.9$'],fontsize=15)  \n",
    "ax1.set_ylabel(ylabel=\"谱密度\",fontsize=17)  \n",
    "ax1.set_xlabel(xlabel=\"频率\",fontsize=17)  \n",
    "plt.xticks(fontsize=15);plt.yticks(fontsize=15)  \n",
    "ax2 = fig.add_subplot(212)  \n",
    "ax2.plot(w,g(0.4,0.9),linestyle=\"-.\",color='green')  \n",
    "ax2.legend(loc=2,labels=['$\\theta_{1} =0.4,\\Theta_{1}=0.9$'],fontsize=15)  \n",
    "ax2.set_ylabel(ylabel=\"谱密度\",fontsize=17)  \n",
    "ax2.set_xlabel(xlabel=\"频率\",fontsize=17)  \n",
    "plt.xticks(fontsize=15);plt.yticks(fontsize=15)  \n",
    "fig.tight_layout();plt.savefig(fname='fig/9_6.png')  "
   ]
  },
  {
   "cell_type": "markdown",
   "id": "863a89d1",
   "metadata": {},
   "source": [
    "### 例9.3"
   ]
  },
  {
   "cell_type": "markdown",
   "id": "d00442f3",
   "metadata": {},
   "source": [
    "ar = np.r_[1, 0]; ma = np.r_[1, 0.05,-0.9]  \n",
    "np.random.seed(2022)  \n",
    "xt = smtsa.arma_generate_sample(ar=ar,ma=ma, nsample=500)  "
   ]
  },
  {
   "cell_type": "markdown",
   "id": "7fc67055",
   "metadata": {},
   "source": [
    "from statsmodels.tsa.stattools import acovf  "
   ]
  },
  {
   "cell_type": "markdown",
   "id": "f4764f71",
   "metadata": {},
   "source": [
    "gk = acovf(xt,adjusted=True)  "
   ]
  },
  {
   "cell_type": "markdown",
   "id": "2a0b8338",
   "metadata": {},
   "source": [
    "def func(x,n=500):  \n",
    "&ensp;&ensp;&ensp;&ensp;sum = gk[0]  \n",
    "&ensp;&ensp;&ensp;&ensp;for k in range(1,n,1):  \n",
    "&ensp;&ensp;&ensp;&ensp;&ensp;&ensp;&ensp;&ensp;sum = sum + 2\\* gk[k]\\* np.cos(2\\* np.pi\\* x\\* k)  \n",
    "&ensp;&ensp;&ensp;&ensp;return sum       "
   ]
  },
  {
   "cell_type": "markdown",
   "id": "f259e774",
   "metadata": {},
   "source": [
    "w = np.arange(0.001,0.5001,0.001)    \n",
    "def f(a,b):    \n",
    "&ensp;&ensp;&ensp;&ensp;f = 1+a\\** 2+b\\** 2-2\\* a\\* (1-b)\\* np.cos(2\\* np.pi\\* w)-2\\* b\\* np.cos(4\\* np.pi\\* w)  \n",
    "&ensp;&ensp;&ensp;&ensp;return f  "
   ]
  },
  {
   "cell_type": "markdown",
   "id": "a9844629",
   "metadata": {},
   "source": [
    "fig = plt.figure(figsize=(12,8), dpi=150)  \n",
    "ax1 = fig.add_subplot(211)  \n",
    "ax1.plot(w,func(w), linestyle=\":\", color='green')  \n",
    "ax1.legend(loc=1, labels=['无加窗谱估计'], fontsize=15)  \n",
    "plt.xticks(fontsize=15); plt.yticks(fontsize=15)  \n",
    "ax2 = fig.add_subplot(212)  \n",
    "ax2.plot(w,f(-0.05,0.9), linestyle=\"-\", color='blue')  \n",
    "ax2.plot(w,func(w,n=3), linestyle=\"-.\", color='green')  \n",
    "ax2.legend(loc=1, labels=['谱密度','加时窗谱估计'], fontsize=15)  \n",
    "ax2.set_xlabel(xlabel=\"频率\", fontsize=17)  \n",
    "plt.xticks(fontsize=15); plt.yticks(fontsize=15)  \n",
    "fig.tight_layout(); plt.savefig(fname='fig/9_7.png')  "
   ]
  },
  {
   "cell_type": "markdown",
   "id": "e2ec6ca1",
   "metadata": {},
   "source": [
    "### 图9.8"
   ]
  },
  {
   "cell_type": "markdown",
   "id": "97d768d0",
   "metadata": {},
   "source": [
    "s = np.arange(-0.5,0.501,0.001)  "
   ]
  },
  {
   "cell_type": "markdown",
   "id": "b4d85412",
   "metadata": {},
   "source": [
    "def dirichlet(s,n):   \n",
    "&ensp;&ensp;&ensp;&ensp;d = np.sin(np.pi\\* n\\* s)/np.sin(np.pi\\* s)     \n",
    "&ensp;&ensp;&ensp;&ensp;return d   "
   ]
  },
  {
   "cell_type": "markdown",
   "id": "ecd31998",
   "metadata": {},
   "source": [
    "def Fejer(s,n):    \n",
    "&ensp;&ensp;&ensp;&ensp;f = (1/n)\\* (np.sin(n\\* np.pi\\* s)/np.sin(np.pi\\* s))\\** 2    \n",
    "&ensp;&ensp;&ensp;&ensp;return f  "
   ]
  },
  {
   "cell_type": "markdown",
   "id": "779cff18",
   "metadata": {},
   "source": [
    "fig = plt.figure(figsize=(12,4),dpi=150)  \n",
    "ax = fig.add_subplot(111)  \n",
    "ax.plot(s,dirichlet(s,10),linestyle=\"-\",color='blue')  \n",
    "ax.plot(s,Fejer(s,10),linestyle=\"-.\",color='blue')  \n",
    "ax.legend(loc=2,labels=['Dirichlet 核 $(n=10)$','Fejer 核 $(n=10)$'],fontsize=15)  \n",
    "ax.set_ylabel(ylabel=\" \",fontsize=17)  \n",
    "ax.set_xlabel(xlabel=\" \",fontsize=17)  \n",
    "plt.xticks(fontsize=15);plt.yticks(fontsize=15)  \n",
    "fig.tight_layout(); plt.savefig(fname='fig/9_8.png')  "
   ]
  },
  {
   "cell_type": "markdown",
   "id": "714db81b",
   "metadata": {},
   "source": [
    "### 例9.4"
   ]
  },
  {
   "cell_type": "markdown",
   "id": "f0be85a0",
   "metadata": {},
   "source": [
    "w = np.arange(0.001,0.5001,0.001); L = len(w) "
   ]
  },
  {
   "cell_type": "markdown",
   "id": "44a18975",
   "metadata": {},
   "source": [
    "def f(s,t):  \n",
    "&ensp;&ensp;&ensp;&ensp;f = 1/(1+s\\** 2+t\\** 2-2\\* s\\* (1-t)\\* np.cos(2\\* np.pi\\* w)-2\\* t\\* np.cos(4\\* np.pi\\* w))  \n",
    "&ensp;&ensp;&ensp;&ensp;return f  "
   ]
  },
  {
   "cell_type": "markdown",
   "id": "e20c9f7f",
   "metadata": {},
   "source": [
    "ar = np.r_[1, -0.12, 0.64]; ma = np.r_[1, 0]  "
   ]
  },
  {
   "cell_type": "markdown",
   "id": "abdb5169",
   "metadata": {},
   "source": [
    "np.random.seed(2026)  \n",
    "xt = smtsa.arma_generate_sample(ar=ar,ma=ma, nsample=L)  "
   ]
  },
  {
   "cell_type": "markdown",
   "id": "4ce368f7",
   "metadata": {},
   "source": [
    "gk = acovf(xt,adjusted=True)  "
   ]
  },
  {
   "cell_type": "markdown",
   "id": "30e50c3a",
   "metadata": {},
   "source": [
    "def func(s,n=500):   \n",
    "&ensp;&ensp;&ensp;&ensp;sum = gk[0]   \n",
    "&ensp;&ensp;&ensp;&ensp;for k in range(1,n,1):   \n",
    "&ensp;&ensp;&ensp;&ensp;&ensp;&ensp;&ensp;&ensp;sum = sum + 2\\* gk[k]\\* np.cos(2\\* np.pi\\* s\\* k)   \n",
    "&ensp;&ensp;&ensp;&ensp;return sum        "
   ]
  },
  {
   "cell_type": "markdown",
   "id": "8d981be3",
   "metadata": {},
   "source": [
    "def funca(s,n=500,c=3):  \n",
    "&ensp;&ensp;&ensp;&ensp;Kn = c\\* int(np.sqrt(n))  \n",
    "&ensp;&ensp;&ensp;&ensp;sum = gk[0]  \n",
    "&ensp;&ensp;&ensp;&ensp;for k in range(1,Kn,1):  \n",
    "&ensp;&ensp;&ensp;&ensp;&ensp;&ensp;&ensp;&ensp;sum = sum + 2\\* gk[k]\\* np.cos(2\\* np.pi\\* s\\* k)  \n",
    "&ensp;&ensp;&ensp;&ensp;return sum  "
   ]
  },
  {
   "cell_type": "markdown",
   "id": "1d37633a",
   "metadata": {},
   "source": [
    "def funcb(s,n=500,c=3):  \n",
    "&ensp;&ensp;&ensp;&ensp;Kn = c\\* int(np.sqrt(n))  \n",
    "&ensp;&ensp;&ensp;&ensp;sum = gk[0]  \n",
    "&ensp;&ensp;&ensp;&ensp;for k in range(1,Kn,1):  \n",
    "&ensp;&ensp;&ensp;&ensp;&ensp;&ensp;&ensp;&ensp;sum = sum + 2\\* (1-(k/Kn))\\* gk[k]\\* np.cos(2\\* np.pi\\* s\\* k)  \n",
    "&ensp;&ensp;&ensp;&ensp;return sum  "
   ]
  },
  {
   "cell_type": "markdown",
   "id": "6d18f0fc",
   "metadata": {},
   "source": [
    "def funcc(s,n=500,c=3):  \n",
    "&ensp;&ensp;&ensp;&ensp;Kn = c\\* int(np.sqrt(n))  \n",
    "&ensp;&ensp;&ensp;&ensp;sum = gk[0]  \n",
    "&ensp;&ensp;&ensp;&ensp;for k in range(1,Kn,1):  \n",
    "&ensp;&ensp;&ensp;&ensp;&ensp;&ensp;&ensp;&ensp;sum = sum + 2\\* (np.sin(k\\* np.pi/Kn)/(k\\* np.pi/Kn))\\* gk[k]\\* np.cos(2\\* np.pi\\* s\\* k)  \n",
    "&ensp;&ensp;&ensp;&ensp;return sum  "
   ]
  },
  {
   "cell_type": "markdown",
   "id": "4a889700",
   "metadata": {},
   "source": [
    "fig = plt.figure(figsize=(12,8),dpi=150)  \n",
    "ax1 = fig.add_subplot(211)  \n",
    "ax1.plot(w, func(w), linestyle=\":\", color='green')  \n",
    "ax1.legend(loc=1, labels=['无加窗谱估计'], fontsize=13)  \n",
    "plt.xticks(fontsize=15); plt.yticks(fontsize=15)  \n",
    "ax2 = fig.add_subplot(212)  \n",
    "ax2.plot(w, f(0.12,-0.64), linestyle=\"-\", color='blue')  \n",
    "ax2.plot(w, funca(w), linestyle=\":\", color='blue')  \n",
    "ax2.plot(w,funcb(w), linestyle=\"-.\", color='green')  \n",
    "ax2.plot(w,funcc(w), linestyle=\"--\", color='red')\n",
    "ax2.legend(loc=1, labels=['谱密度', '截断窗加窗谱估计', 'Bartlett 窗加窗谱估计', ' Daniell 窗加窗谱估计'], fontsize=13)  \n",
    "ax2.set_xlabel(xlabel=\"频率\",fontsize=17)  \n",
    "plt.xticks(fontsize=15); plt.yticks(fontsize=15)  \n",
    "fig.tight_layout(); plt.savefig(fname='fig/9_9.png')  "
   ]
  },
  {
   "cell_type": "markdown",
   "id": "61219d09",
   "metadata": {},
   "source": [
    "### 案例分析"
   ]
  },
  {
   "cell_type": "markdown",
   "id": "02894a5d",
   "metadata": {},
   "source": [
    "drug_data = np.loadtxt(\"drug.txt\")  \n",
    "Index = pd.date_range(start=\"1991-07\", end=\"2008-07\", freq=\"M\")  \n",
    "drug_ts = pd.Series(drug_data, index=Index)  \n",
    "drug_dif = 100\\* np.log(drug_ts).diff()[1:]  "
   ]
  },
  {
   "cell_type": "markdown",
   "id": "581501bc",
   "metadata": {},
   "source": [
    "fig = plt.figure(figsize=(12,8),dpi=150)  \n",
    "ax1 = fig.add_subplot(211)  \n",
    "ax1.plot(drug_ts,marker=\"o\", linestyle=\"-\", color='blue')  \n",
    "ax1.set_ylabel(ylabel=\"销售额\",fontsize=17)  \n",
    "ax1.set_xlabel(xlabel=\"日期\",fontsize=17)  \n",
    "plt.xticks(fontsize=15); plt.yticks(fontsize=15)  \n",
    "ax2 = fig.add_subplot(212)  \n",
    "ax2.plot(drug_dif,linestyle=\":\", color='green')  \n",
    "ax2.set_ylabel(ylabel=\"变换后的序列值\", fontsize=17)  \n",
    "ax2.set_xlabel(xlabel=\"日期\", fontsize=17)  \n",
    "plt.xticks(fontsize=15); plt.yticks(fontsize=15)   \n",
    "fig.tight_layout(); plt.savefig(fname='fig/9_10.png')  "
   ]
  },
  {
   "cell_type": "markdown",
   "id": "222e1bef",
   "metadata": {},
   "source": [
    "gk = acovf(drug_dif.values, adjusted=True)  \n",
    "w = np.arange(0, 0.5, 1/406)  "
   ]
  },
  {
   "cell_type": "markdown",
   "id": "f59e4e4f",
   "metadata": {},
   "source": [
    "def func(s,n=203):  \n",
    "&ensp;&ensp;&ensp;&ensp;sum = gk[0]  \n",
    "&ensp;&ensp;&ensp;&ensp;for k in range(1,n,1):  \n",
    "&ensp;&ensp;&ensp;&ensp;&ensp;&ensp;&ensp;&ensp;sum = sum + 2\\* gk[k]\\* np.cos(2\\* np.pi\\* s\\* k)  \n",
    "&ensp;&ensp;&ensp;&ensp;return sum      "
   ]
  },
  {
   "cell_type": "markdown",
   "id": "6809b498",
   "metadata": {},
   "source": [
    "def funcb(s,n=203,c=3):  \n",
    "&ensp;&ensp;&ensp;&ensp;Kn = c\\* int(np.sqrt(n))  \n",
    "&ensp;&ensp;&ensp;&ensp;sum = gk[0]  \n",
    "&ensp;&ensp;&ensp;&ensp;for k in range(1,Kn,1):  \n",
    "&ensp;&ensp;&ensp;&ensp;&ensp;&ensp;&ensp;&ensp;sum = sum + 2\\* (1-(k/Kn))\\* gk[k]\\* np.cos(2\\* np.pi\\* s\\* k)    \n",
    "&ensp;&ensp;&ensp;&ensp;return sum  "
   ]
  },
  {
   "cell_type": "markdown",
   "id": "27f90ea6",
   "metadata": {},
   "source": [
    "fig = plt.figure(figsize=(12,4), dpi=150)  \n",
    "ax = fig.add_subplot(111)  \n",
    "ax.plot(w, func(w), linestyle=\"-\", color='green')  \n",
    "ax.scatter(w, funcb(w), marker=\"o\", s=6, color='blue')  \n",
    "ax.legend(loc=2, labels=['无加窗谱估计','Bartlett 窗加窗谱估计'], fontsize=13)  \n",
    "ax.set_xlabel(xlabel=\"$\\omega_{j}=j/406$\",fontsize=17)  \n",
    "plt.xticks(fontsize=15); plt.yticks(fontsize=15)  \n",
    "fig.tight_layout(); plt.savefig(fname='fig/9_11.png')  "
   ]
  },
  {
   "cell_type": "markdown",
   "id": "07db8664",
   "metadata": {},
   "source": [
    "drug_diff = 100\\* np.log(drug_ts).diff(periods=12)[12:]  \n",
    "gkf = acovf(drug_diff.values, adjusted=True)  \n",
    "wf = np.arange(0, 0.5, 1/192)  "
   ]
  },
  {
   "cell_type": "markdown",
   "id": "b780f7de",
   "metadata": {},
   "source": [
    "def funcbf(s,n=192,c=3):  \n",
    "&ensp;&ensp;&ensp;&ensp;Kn = c\\* int(np.sqrt(n))  \n",
    "&ensp;&ensp;&ensp;&ensp;sum = gkf[0]  \n",
    "&ensp;&ensp;&ensp;&ensp;for k in range(1,Kn,1):  \n",
    "&ensp;&ensp;&ensp;&ensp;&ensp;&ensp;&ensp;&ensp;sum = sum + 2\\* (1-(k/Kn))\\* gkf[k]\\* np.cos(2\\* np.pi\\* s\\* k)  \n",
    "&ensp;&ensp;&ensp;&ensp;return sum  "
   ]
  },
  {
   "cell_type": "markdown",
   "id": "23c0b1e1",
   "metadata": {},
   "source": [
    "fig = plt.figure(figsize=(12,4), dpi=150)  \n",
    "ax = fig.add_subplot(111)  \n",
    "ax.plot(wf, funcbf(wf), marker=\"o\", linestyle=\"-\", color='blue')  \n",
    "ax.set_xlabel(xlabel=\"$\\omega_{j}=j/192$\", fontsize=17)  \n",
    "plt.xticks(fontsize=15); plt.yticks(fontsize=15)  \n",
    "fig.tight_layout(); plt.savefig(fname='fig/9_12.png')  "
   ]
  }
 ],
 "metadata": {
  "kernelspec": {
   "display_name": "Python 3 (ipykernel)",
   "language": "python",
   "name": "python3"
  },
  "language_info": {
   "codemirror_mode": {
    "name": "ipython",
    "version": 3
   },
   "file_extension": ".py",
   "mimetype": "text/x-python",
   "name": "python",
   "nbconvert_exporter": "python",
   "pygments_lexer": "ipython3",
   "version": "3.9.11"
  }
 },
 "nbformat": 4,
 "nbformat_minor": 5
}
