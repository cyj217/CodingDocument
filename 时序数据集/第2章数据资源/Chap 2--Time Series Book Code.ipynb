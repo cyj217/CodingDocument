{
 "cells": [
  {
   "cell_type": "markdown",
   "id": "d7d7abaa",
   "metadata": {},
   "source": [
    "# 第二章"
   ]
  },
  {
   "cell_type": "markdown",
   "id": "363d0487",
   "metadata": {},
   "source": [
    "os.chdir(\"D:\\\\TSBOOKDATA\\\\Chap2\") #改变工作目录   "
   ]
  },
  {
   "cell_type": "markdown",
   "id": "98c52380",
   "metadata": {},
   "source": [
    "### 例2.3"
   ]
  },
  {
   "cell_type": "markdown",
   "id": "1e5d2b7c",
   "metadata": {},
   "source": [
    "import statsmodels.tsa.api as smtsa  "
   ]
  },
  {
   "cell_type": "markdown",
   "id": "f5cf2f93",
   "metadata": {},
   "source": [
    "n = 100; ma = np.r_[1, 0]  \n",
    "ar11 = np.r_[1, -0.6]; ar12 = np.r_[1, -1]  \n",
    "ar13 = np.r_[1, 1.8]; ar14 = np.r_[1, -1,-0.3]  "
   ]
  },
  {
   "cell_type": "markdown",
   "id": "396ae307",
   "metadata": {},
   "source": [
    "np.random.seed(231)  \n",
    "ar1 = smtsa.arma_generate_sample(ar=ar11, ma=ma, nsample=n)  \n",
    "np.random.seed(232)  \n",
    "ar2 = smtsa.arma_generate_sample(ar=ar12, ma=ma, nsample=n)  \n",
    "np.random.seed(233)  \n",
    "ar3 = smtsa.arma_generate_sample(ar=ar13, ma=ma, nsample=n)  \n",
    "np.random.seed(234)  \n",
    "ar4 = smtsa.arma_generate_sample(ar=ar14, ma=ma, nsample=n)  "
   ]
  },
  {
   "cell_type": "markdown",
   "id": "fd44d9d5",
   "metadata": {},
   "source": [
    "fig = plt.figure(figsize=(12,4), dpi=150)  \n",
    "ax1 = fig.add_subplot(221)  \n",
    "ax1.plot(ar1, linestyle=\"-\", color=\"b\")  \n",
    "ax1.set_xlabel(xlabel='(a)', fontsize=17)  \n",
    "plt.xticks(fontsize=15); plt.yticks(fontsize=15)  \n",
    "ax2 = fig.add_subplot(222)  \n",
    "ax2.plot(ar2, linestyle=\"-\", color=\"b\")  \n",
    "ax2.set_xlabel(xlabel='(b)', fontsize=17)  \n",
    "plt.xticks(fontsize=15); plt.yticks(fontsize=15)  \n",
    "ax3 = fig.add_subplot(223)  \n",
    "ax3.plot(ar3, linestyle=\"-\", color=\"b\")  \n",
    "ax3.set_xlabel(xlabel='(c)', fontsize=17)  \n",
    "plt.xticks(fontsize=15); plt.yticks(fontsize=15)  \n",
    "ax4 = fig.add_subplot(224)  \n",
    "ax4.plot(ar4, linestyle=\"-\", color=\"b\")  \n",
    "ax4.set_xlabel(xlabel='(d)', fontsize=17)  \n",
    "plt.xticks(fontsize=15); plt.yticks(fontsize=15)  \n",
    "fig.tight_layout(); plt.savefig(fname='fig/2_1.png')  "
   ]
  },
  {
   "cell_type": "markdown",
   "id": "511cea93",
   "metadata": {},
   "source": [
    "### 例2.8"
   ]
  },
  {
   "cell_type": "markdown",
   "id": "69f3365e",
   "metadata": {},
   "source": [
    "n = 200; ma = np.r_[1, 0]  \n",
    "ar11 = np.r_[1, -0.8]; ar12 = np.r_[1,0.7]  \n",
    "ar13 = np.r_[1,0.2,-0.3]; ar14 = np.r_[1,-0.2,0.3,]  "
   ]
  },
  {
   "cell_type": "markdown",
   "id": "b8df3dd7",
   "metadata": {},
   "source": [
    "np.random.seed(281)  \n",
    "ar1 = smtsa.arma_generate_sample(ar=ar11, ma=ma, nsample=n)  \n",
    "np.random.seed(282)  \n",
    "ar2 = smtsa.arma_generate_sample(ar=ar12, ma=ma, nsample=n)  \n",
    "np.random.seed(283)  \n",
    "ar3 = smtsa.arma_generate_sample(ar=ar13, ma=ma, nsample=n)  \n",
    "np.random.seed(284)  \n",
    "ar4 = smtsa.arma_generate_sample(ar=ar14, ma=ma, nsample=n)  "
   ]
  },
  {
   "cell_type": "markdown",
   "id": "bb3c2588",
   "metadata": {},
   "source": [
    "fig = plt.figure(figsize=(12,6), dpi=150)  \n",
    "ax1 = fig.add_subplot(221)  \n",
    "ACF(ar1, lag=30)   \n",
    "ax1.set_xlabel(xlabel='(1)', fontsize=17)  \n",
    "ax2 = fig.add_subplot(222)  \n",
    "ACF(ar2, lag=30)  \n",
    "ax2.set_xlabel(xlabel='(2)', fontsize=17)  \n",
    "ax3 = fig.add_subplot(223)  \n",
    "ACF(ar3, lag=30)  \n",
    "ax3.set_xlabel(xlabel='(3)', fontsize=17)  \n",
    "ax4 = fig.add_subplot(224)  \n",
    "ACF(ar4, lag=30)  \n",
    "ax4.set_xlabel(xlabel='(4)', fontsize=17)  \n",
    "fig.tight_layout(); plt.savefig(fname='fig/2_2.png')  "
   ]
  },
  {
   "cell_type": "markdown",
   "id": "20481d60",
   "metadata": {},
   "source": [
    "### 例2.10"
   ]
  },
  {
   "cell_type": "markdown",
   "id": "cc69c8c6",
   "metadata": {},
   "source": [
    "def PACF(ts, lag=20, xlabel='',fname=\" \"):  \n",
    "&ensp;&ensp;&ensp;lag_pacf = pacf(ts, nlags=lag)       \n",
    "&ensp;&ensp;&ensp;plt.vlines(x=list(range(lag+1)),ymin=np.zeros(lag+1),ymax=lag_pacf,linewidth=2.0,color='b')  \n",
    "&ensp;&ensp;&ensp;plt.axhline(y=0,linestyle=':',color='blue')  \n",
    "&ensp;&ensp;&ensp;plt.axhline(y=-1.96/np.sqrt(len(ts)),linestyle='--',color='red')  \n",
    "&ensp;&ensp;&ensp;plt.axhline(y=1.96/np.sqrt(len(ts)),linestyle='--',color='red')  \n",
    "&ensp;&ensp;&ensp;plt.title('');plt.xticks(fontsize=15);plt.yticks(fontsize=15)  \n",
    "&ensp;&ensp;&ensp;plt.xlabel(xlabel=xlabel,fontsize=17)  \n",
    "&ensp;&ensp;&ensp;plt.ylabel(ylabel=\"PACF\",fontsize=17)  \n",
    "&ensp;&ensp;&ensp;plt.tight_layout()  \n",
    "&ensp;&ensp;&ensp;plt.savefig(fname=fname)  "
   ]
  },
  {
   "cell_type": "markdown",
   "id": "d80852d8",
   "metadata": {},
   "source": [
    "from statsmodels.tsa.stattools import pacf  "
   ]
  },
  {
   "cell_type": "markdown",
   "id": "8ce70a83",
   "metadata": {},
   "source": [
    "fig = plt.figure(figsize=(12,6), dpi=150)  \n",
    "ax1 = fig.add_subplot(221)  \n",
    "PACF(ar1, lag=30, xlabel='(1)')   \n",
    "ax2 = fig.add_subplot(222)  \n",
    "PACF(ar2, lag=30, xlabel='(2)')  \n",
    "ax3 = fig.add_subplot(223)  \n",
    "PACF(ar3, lag=30, xlabel='(3)')  \n",
    "ax4 = fig.add_subplot(224)  \n",
    "PACF(ar4, lag=30, xlabel='(4)')  \n",
    "fig.tight_layout(); plt.savefig(fname='fig/2_3.png')  "
   ]
  },
  {
   "cell_type": "markdown",
   "id": "ec169bc4",
   "metadata": {},
   "source": [
    "### 例2.16"
   ]
  },
  {
   "cell_type": "markdown",
   "id": "ede14762",
   "metadata": {},
   "source": [
    "n = 100; ar = np.r_[1, 0]  \n",
    "ma1 = np.r_[1, -0.5]; ma2 = np.r_[1, -0.25, 0.5]  "
   ]
  },
  {
   "cell_type": "markdown",
   "id": "eeee75b0",
   "metadata": {},
   "source": [
    "np.random.seed(216)  \n",
    "ma11 = smtsa.arma_generate_sample(ar=ar, ma=ma1, nsample=n)  \n",
    "np.random.seed(217)  \n",
    "ma22 = smtsa.arma_generate_sample(ar=ar, ma=ma2, nsample=n)  "
   ]
  },
  {
   "cell_type": "markdown",
   "id": "8d40c5f4",
   "metadata": {},
   "source": [
    "fig = plt.figure(figsize=(12,4), dpi=150)  \n",
    "ax1 = fig.add_subplot(121)  \n",
    "PACF(ma11, lag=30, xlabel='(1)')  \n",
    "ax2 = fig.add_subplot(122)  \n",
    "PACF(ma22, lag=30, xlabel='(2)', fname='fig/2_4.png')  "
   ]
  },
  {
   "cell_type": "markdown",
   "id": "5bc52816",
   "metadata": {},
   "source": [
    "### 例2.17"
   ]
  },
  {
   "cell_type": "markdown",
   "id": "2b9510a3",
   "metadata": {},
   "source": [
    "n = 200; ar = np.r_[1,-0.8]; ma = np.r_[1, -0.8, 0.64]  "
   ]
  },
  {
   "cell_type": "markdown",
   "id": "f686b41b",
   "metadata": {},
   "source": [
    "np.random.seed(218)  \n",
    "ar1ma2 = smtsa.arma_generate_sample(ar=ar, ma=ma, nsample=n)  "
   ]
  },
  {
   "cell_type": "markdown",
   "id": "24db5903",
   "metadata": {},
   "source": [
    "fig = plt.figure(figsize=(12,4), dpi=150)  \n",
    "ax1 = fig.add_subplot(121)  \n",
    "ACF(ar1ma2, lag=30)  \n",
    "ax2 = fig.add_subplot(122)  \n",
    "PACF(ar1ma2, lag=30, xlabel='lag', fname='fig/2_5.png')  "
   ]
  }
 ],
 "metadata": {
  "kernelspec": {
   "display_name": "Python 3 (ipykernel)",
   "language": "python",
   "name": "python3"
  },
  "language_info": {
   "codemirror_mode": {
    "name": "ipython",
    "version": 3
   },
   "file_extension": ".py",
   "mimetype": "text/x-python",
   "name": "python",
   "nbconvert_exporter": "python",
   "pygments_lexer": "ipython3",
   "version": "3.9.11"
  }
 },
 "nbformat": 4,
 "nbformat_minor": 5
}
