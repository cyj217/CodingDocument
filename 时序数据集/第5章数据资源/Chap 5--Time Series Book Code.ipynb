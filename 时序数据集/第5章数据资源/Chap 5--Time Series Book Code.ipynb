{
 "cells": [
  {
   "cell_type": "markdown",
   "id": "d6c11637",
   "metadata": {},
   "source": [
    "# 第五章"
   ]
  },
  {
   "cell_type": "markdown",
   "id": "26a83212",
   "metadata": {},
   "source": [
    "os.chdir(\"D:\\\\TSBOOKDATA\\\\Chap5\") #改变工作目录   "
   ]
  },
  {
   "cell_type": "markdown",
   "id": "5a7bc9f9",
   "metadata": {},
   "source": [
    "### 图5.1"
   ]
  },
  {
   "cell_type": "markdown",
   "id": "69582bc5",
   "metadata": {},
   "source": [
    "np.random.seed(501)  \n",
    "y = np.random.normal(0,9,200)  \n",
    "t = np.arange(1,201)  "
   ]
  },
  {
   "cell_type": "markdown",
   "id": "729cd73f",
   "metadata": {},
   "source": [
    "y1 = 0.6\\*t + y  \n",
    "y2 = 0.6\\*t + 0.01\\*t**2 + y  "
   ]
  },
  {
   "cell_type": "markdown",
   "id": "127e879a",
   "metadata": {},
   "source": [
    "x_df1 = pd.Series(y1,index=t)   \n",
    "x_df2 = pd.Series(y2,index=t)  "
   ]
  },
  {
   "cell_type": "markdown",
   "id": "d8d9d23b",
   "metadata": {},
   "source": [
    "fig = plt.figure(figsize=(12,4),dpi=150)  \n",
    "ax = fig.add_subplot(111)  \n",
    "ax.plot(x_df1, linestyle=\"--\", color=\"blue\")  \n",
    "ax.plot(x_df2,linestyle=\":\",color=\"red\")  \n",
    "ax.legend(['$x_{t}=0.6t + \\epsilon_{t}$', '$x_{t}=0.6t + 0.01t^2 + \\epsilon_{t}$'],fontsize=15)  \n",
    "ax.set_ylabel(ylabel=\"序列值\",fontsize=18)  \n",
    "ax.set_xlabel(xlabel=\"时间\",fontsize=18)  \n",
    "plt.xticks(fontsize=15); plt.yticks(fontsize=15)  \n",
    "fig.tight_layout(); plt.savefig(fname='fig/5_1.png')  "
   ]
  },
  {
   "cell_type": "markdown",
   "id": "e8320f38",
   "metadata": {},
   "source": [
    "### 图5.2"
   ]
  },
  {
   "cell_type": "markdown",
   "id": "7dc231ed",
   "metadata": {},
   "source": [
    "import statsmodels.tsa.api as smtsa  "
   ]
  },
  {
   "cell_type": "markdown",
   "id": "b66e3990",
   "metadata": {},
   "source": [
    "n = 100; ma=np.r_[1,0]  \n",
    "ar1 = np.r_[1, -1.02]; ar2 = np.r_[1, -0.6]  \n",
    "np.random.seed(502)   \n",
    "ar11 = smtsa.arma_generate_sample(ar=ar1, ma=ma, nsample=n)  \n",
    "np.random.seed(503)  \n",
    "ar22 = smtsa.arma_generate_sample(ar=ar2, ma=ma, nsample=n)  "
   ]
  },
  {
   "cell_type": "markdown",
   "id": "db565d2f",
   "metadata": {},
   "source": [
    "t = np.arange(1,101)  \n",
    "ar_df1 = pd.Series(ar11,index=t)  \n",
    "ar_df2 = pd.Series(ar22,index=t)  "
   ]
  },
  {
   "cell_type": "markdown",
   "id": "12005b53",
   "metadata": {},
   "source": [
    "fig = plt.figure(figsize=(12,4), dpi=150)  \n",
    "ax = fig.add_subplot(111)  \n",
    "ax.plot(ar_df1, linestyle=\"--\", color=\"blue\")  \n",
    "ax.plot(ar_df2,linestyle=\":\",color=\"red\")  \n",
    "ax.legend(['$x_{t}= 1.02x_{t-1} + \\epsilon_{t}$', '$x_{t}=0.6x_{t} + \\epsilon_{t}$'],fontsize=15)  \n",
    "ax.set_ylabel(ylabel=\"序列值\", fontsize=17)  \n",
    "ax.set_xlabel(xlabel=\"时间\", fontsize=17)  \n",
    "plt.xticks(fontsize=15); plt.yticks(fontsize=15)  \n",
    "fig.tight_layout(); plt.savefig(fname='fig/5_2.png')  "
   ]
  },
  {
   "cell_type": "markdown",
   "id": "b24d4861",
   "metadata": {},
   "source": [
    "### 例5.1"
   ]
  },
  {
   "cell_type": "markdown",
   "id": "74ca11bf",
   "metadata": {},
   "source": [
    "elec_prod = np.loadtxt(\"elec_prod.txt\")  \n",
    "index = pd.date_range(start=\"1974\", end=\"2007\", freq=\"M\")  \n",
    "elec_df = pd.Series(elec_prod,index=index).diff()  "
   ]
  },
  {
   "cell_type": "markdown",
   "id": "9593f2c3",
   "metadata": {},
   "source": [
    "fig = plt.figure(figsize=(12,4), dpi=150)  \n",
    "ax = fig.add_subplot(111)  \n",
    "ax.plot(elec_df, linestyle=\"-\", color=\"blue\")  \n",
    "ax.set_ylabel(ylabel=\"一阶差分序列值\",fontsize=17)  \n",
    "ax.set_xlabel(xlabel=\"时 间\",fontsize=17)  \n",
    "plt.xticks(fontsize=15); plt.yticks(fontsize=15)  \n",
    "fig.tight_layout(); plt.savefig(fname='fig/5_3.png')  "
   ]
  },
  {
   "cell_type": "markdown",
   "id": "22b3ce5e",
   "metadata": {},
   "source": [
    "### 例5.2"
   ]
  },
  {
   "cell_type": "markdown",
   "id": "c62de96e",
   "metadata": {},
   "source": [
    "ningxia_gdp = np.loadtxt(\"ningxia_gdp.txt\")  \n",
    "index = pd.date_range(start=\"2001\", end=\"2021\", freq=\"Y\")  \n",
    "ningxia_gdp_df = pd.Series(ningxia_gdp,index=index).diff().diff()  "
   ]
  },
  {
   "cell_type": "markdown",
   "id": "e102bb7f",
   "metadata": {},
   "source": [
    "fig = plt.figure(figsize=(12,4),dpi=150)  \n",
    "ax = fig.add_subplot(111)  \n",
    "ax.plot(ningxia_gdp_df, marker=\"o\", linestyle=\"-\", color=\"blue\")  \n",
    "ax.set_ylabel(ylabel=\"二阶差分序列值\", fontsize=17)  \n",
    "ax.set_xlabel(xlabel=\"时间\", fontsize=17)  \n",
    "plt.xticks(fontsize=15); plt.yticks(fontsize=15)  \n",
    "fig.tight_layout(); plt.savefig(fname='fig/5_4.png')  "
   ]
  },
  {
   "cell_type": "markdown",
   "id": "0ddee3a1",
   "metadata": {},
   "source": [
    "### 例5.3"
   ]
  },
  {
   "cell_type": "markdown",
   "id": "3790a7a2",
   "metadata": {},
   "source": [
    "Index = pd.date_range(start=\"2013\", end=\"2017-06-30\", freq=\"Q\")  \n",
    "gdp_df = pd.read_csv('JDGDP.csv'); gdp_df.index = Index  "
   ]
  },
  {
   "cell_type": "markdown",
   "id": "9ca050a4",
   "metadata": {},
   "source": [
    "cgdp = gdp_df.diff().diff(periods=4)  "
   ]
  },
  {
   "cell_type": "markdown",
   "id": "cc57dbec",
   "metadata": {},
   "source": [
    "fig = plt.figure(figsize=(12,4),dpi=150)  \n",
    "ax = fig.add_subplot(111)  \n",
    "ax.plot(cgdp, marker=\"o\", linestyle=\"-\", color=\"blue\")  \n",
    "ax.set_ylabel(ylabel=\"差分序列值\", fontsize=17)  \n",
    "ax.set_xlabel(xlabel=\"时间\", fontsize=17)  \n",
    "plt.xticks(fontsize=15); plt.yticks(fontsize=15)  \n",
    "fig.tight_layout(); plt.savefig(fname='fig/5_5.png')  "
   ]
  },
  {
   "cell_type": "markdown",
   "id": "c2672c35",
   "metadata": {},
   "source": [
    "### 例5.4"
   ]
  },
  {
   "cell_type": "markdown",
   "id": "c67903b2",
   "metadata": {},
   "source": [
    "np.random.seed(504)  \n",
    "x0 = 2.5 + np.random.normal(0, 9, 100)  \n",
    "x = pd.DataFrame(x0, columns=['y']).cumsum()  \n",
    "t = np.arange(1, 101); x[\"index\"] = t  "
   ]
  },
  {
   "cell_type": "markdown",
   "id": "f640865a",
   "metadata": {},
   "source": [
    "results_f = smf.ols('y~index', data=x).fit()  \n",
    "print(results_f.summary().tables[1])  \n",
    "print('std = ', np.std(results_f.resid))  "
   ]
  },
  {
   "cell_type": "markdown",
   "id": "87d764de",
   "metadata": {},
   "source": [
    "fig = plt.figure(figsize=(12,6),dpi=150)  \n",
    "ax1 = fig.add_subplot(311)  \n",
    "ax1.plot(x[\"y\"], linestyle=\"-\", color=\"blue\")  \n",
    "ax1.plot(t, 43.2979 + 3.6473\\*t, linestyle=\"-.\", color=\"red\")  \n",
    "plt.title(\"原序列和拟合序列\",fontsize=17)  \n",
    "ax1.set_ylabel(ylabel=\"Values\",fontsize=17)  \n",
    "ax1.set_xlabel(xlabel=\"Time\",fontsize=17)  \n",
    "plt.xticks(fontsize=15); plt.yticks(fontsize=15)  \n",
    "ax2 = fig.add_subplot(312)  \n",
    "ax2.plot(results_f.resid,linestyle=\"-\",color=\"blue\")  \n",
    "plt.title(\"残差序列\", fontsize=17)  \n",
    "ax2.set_ylabel(ylabel=\"Resid\", fontsize=17)  \n",
    "ax2.set_xlabel(xlabel=\"Time\", fontsize=17)  \n",
    "plt.xticks(fontsize=15); plt.yticks(fontsize=15)  \n",
    "ax3 = fig.add_subplot(313)  \n",
    "ACF(results_f.resid, lag=21)  \n",
    "fig.tight_layout()  \n",
    "plt.savefig(fname='fig/5_6.png')  "
   ]
  },
  {
   "cell_type": "markdown",
   "id": "174c8d67",
   "metadata": {},
   "source": [
    "### 例5.5"
   ]
  },
  {
   "cell_type": "markdown",
   "id": "53ddaca9",
   "metadata": {},
   "source": [
    "tr_data = np.loadtxt(\"tr_industry.txt\")   \n",
    "Index = pd.date_range(start=\"1995\", end=\"2015\", freq=\"Y\")  \n",
    "tr_ts = pd.Series(tr_data,index=Index)  \n",
    "tr_diff = tr_ts.diff()  "
   ]
  },
  {
   "cell_type": "markdown",
   "id": "c3519eb5",
   "metadata": {},
   "source": [
    "fig = plt.figure(figsize=(12,6), dpi=150)  \n",
    "ax1 = fig.add_subplot(221)  \n",
    "ax1.plot(tr_ts,marker='o', linestyle='-', color='b')  \n",
    "ax1.set_ylabel(ylabel=\"第三产业增加值\", fontsize=17)  \n",
    "ax1.set_xlabel(xlabel=\"图 5.7  第三产业增加值序列的时序图\")  \n",
    "plt.xticks(fontsize=15); plt.yticks(fontsize=15)  \n",
    "ax2 = fig.add_subplot(222)  \n",
    "ax2.plot(tr_diff, marker='o', linestyle='-', color='b')  \n",
    "ax2.set_ylabel(ylabel=\"一阶差分序列\", fontsize=17)  \n",
    "ax2.set_xlabel(xlabel=\"图 5.8  差分序列的时序图\")  \n",
    "plt.xticks(fontsize=15); plt.yticks(fontsize=15)  \n",
    "ax3 = fig.add_subplot(223)  \n",
    "ACF(tr_diff[1:], lag=8)   \n",
    "ax4 = fig.add_subplot(224)  \n",
    "PACF(tr_diff[1:], lag=8, xlabel='lag',fname=\"fig/5_7.png\")  "
   ]
  },
  {
   "cell_type": "markdown",
   "id": "0c807bd2",
   "metadata": {},
   "source": [
    "import statsmodels.api as sm  \n",
    "tr_res = sm.tsa.SARIMAX(tr_ts, order=(0, 1, 1))  \n",
    "tr_est = tr_res.fit()  \n",
    "print(tr_est.summary())  "
   ]
  },
  {
   "cell_type": "markdown",
   "id": "b94747f4",
   "metadata": {},
   "source": [
    "acorr_ljungbox(tr_est.resid[1:],lags = [2,4,6,8],boxpierce=True, return_df=True)  "
   ]
  },
  {
   "cell_type": "markdown",
   "id": "7ea17544",
   "metadata": {},
   "source": [
    "tr_fore = tr_est.get_forecast()  \n",
    "confint = pd.concat([tr_fore.summary_frame(alpha=0.20),tr_fore.summary_frame().iloc[:,2:]],axis=1,ignore_index=False)  \n",
    "print(confint)  "
   ]
  },
  {
   "cell_type": "markdown",
   "id": "9aa5c236",
   "metadata": {},
   "source": [
    "fig = plt.figure(figsize=(12,4),dpi=150)  \n",
    "ax = fig.add_subplot(111)  \n",
    "ax.plot(tr_ts, marker=\"o\", linestyle=\"-\", color=\"blue\")  \n",
    "fcast1 = tr_est.get_forecast(2).summary_frame()  \n",
    "fcast1['mean'].plot(ax=ax, marker=\"o\", color=\"red\")  \n",
    "fcast2 = tr_est.get_forecast(steps=2).summary_frame(alpha=0.2)  \n",
    "ax.fill_between(fcast1.index, fcast1['mean_ci_lower'], fcast1['mean_ci_upper'], color='green', alpha=0.3)  \n",
    "ax.fill_between(fcast2.index, fcast2['mean_ci_lower'], fcast2['mean_ci_upper'], color='black', alpha=0.5)  \n",
    "ax.legend([\"Real Values\",\"Forecast\"],loc=\"upper left\",fontsize=13)  \n",
    "ax.set_ylabel(ylabel=\"第三产业增加值\", fontsize=17)  \n",
    "ax.set_xlabel(xlabel=\"时 间\", fontsize=17)  \n",
    "plt.xticks(rotation=360,fontsize=15); plt.yticks(fontsize=15)  \n",
    "fig.tight_layout(); plt.savefig(fname=\"fig/5_11.png\")  "
   ]
  },
  {
   "cell_type": "markdown",
   "id": "09cdf581",
   "metadata": {},
   "source": [
    "### 例5.6"
   ]
  },
  {
   "cell_type": "markdown",
   "id": "01cf9232",
   "metadata": {},
   "source": [
    "sz_data = np.loadtxt(\"nysz.txt\")  \n",
    "Index = pd.date_range(start=\"1995\",end=\"2020\",freq=\"Y\")  \n",
    "sz_df = pd.Series(sz_data,index=Index)  \n",
    "sz_diff = sz_df.diff()[1:]  "
   ]
  },
  {
   "cell_type": "markdown",
   "id": "3adebaf1",
   "metadata": {},
   "source": [
    "fig = plt.figure(figsize=(12,4),dpi=150)  \n",
    "ax1 = fig.add_subplot(121)  \n",
    "ax1.plot(sz_df, marker=\"o\", linestyle=\"-\", color=\"blue\")  \n",
    "plt.xticks(fontsize=15);plt.yticks(fontsize=15)  \n",
    "plt.xlabel(xlabel=\"时间\",fontsize=17)  \n",
    "plt.ylabel(ylabel=\"农业水灾面积\", fontsize=17)  \n",
    "ax2 = fig.add_subplot(122)  \n",
    "ax2.plot(sz_diff,marker=\"o\", linestyle=\"-\", color=\"green\")  \n",
    "plt.xticks(fontsize=15);plt.yticks(fontsize=15)  \n",
    "plt.xlabel(xlabel=\"时间\", fontsize=17)  \n",
    "plt.ylabel(ylabel=\"一阶差分序列\", fontsize=17)  \n",
    "plt.tight_layout(); plt.savefig(\"fig/5_12.png\")  "
   ]
  },
  {
   "cell_type": "markdown",
   "id": "c63fb395",
   "metadata": {
    "scrolled": true
   },
   "source": [
    "fig = plt.figure(figsize=(12,4),dpi=150)  \n",
    "ax1 = fig.add_subplot(121)  \n",
    "ACF(sz_diff,lag=12)  \n",
    "ax2 = fig.add_subplot(122)  \n",
    "PACF(sz_diff,lag=11, xlabel='lag', fname=\"fig/5_13.png\")  "
   ]
  },
  {
   "cell_type": "markdown",
   "id": "34f91abf",
   "metadata": {},
   "source": [
    "nysz_res = sm.tsa.SARIMAX(sz_df, order=(6, 1, 0),enforce_stationarity=False)  \n",
    "param = {'ar.L2':0,'ar.L3':0,'ar.L4':0,'ar.L5':0}  \n",
    "nysz_est = nysz_res.fit_constrained(param)  \n",
    "print(nysz_est.summary().tables[1])  "
   ]
  },
  {
   "cell_type": "markdown",
   "id": "951ee467",
   "metadata": {},
   "source": [
    "acorr_ljungbox(nysz_est.resid[1:],lags = [2,6,8,12],boxpierce=True, return_df=True)  "
   ]
  },
  {
   "cell_type": "markdown",
   "id": "599995a0",
   "metadata": {},
   "source": [
    "nysz_fore = nysz_est.get_forecast(steps=3)  \n",
    "confint = pd.concat([nysz_fore.summary_frame(alpha=0.20),nysz_fore.summary_frame().iloc[:,2:]],axis=1,ignore_index=False)  \n",
    "print(confint)  "
   ]
  },
  {
   "cell_type": "markdown",
   "id": "926201cc",
   "metadata": {},
   "source": [
    "fig = plt.figure(figsize=(12,4),dpi=150)  \n",
    "ax = fig.add_subplot(111)  \n",
    "ax.plot(sz_df, marker=\"o\", linestyle=\"-\", color=\"blue\")  \n",
    "fcast1 = nysz_est.get_forecast(steps=3).summary_frame()  \n",
    "fcast1['mean'].plot(ax=ax, marker=\"o\", color=\"red\")  \n",
    "fcast2 = nysz_est.get_forecast(steps=3).summary_frame(alpha=0.2)  \n",
    "ax.fill_between(fcast1.index, fcast1['mean_ci_lower'], fcast1['mean_ci_upper'], color='green', alpha=0.3)  \n",
    "ax.fill_between(fcast2.index, fcast2['mean_ci_lower'], fcast2['mean_ci_upper'], color='black', alpha=0.4)  \n",
    "ax.legend([\"Real Values\",\"Forecast\"],loc=\"lower left\",fontsize=13)  \n",
    "ax.set_ylabel(ylabel=\"农业水灾面积\", fontsize=17)  \n",
    "ax.set_xlabel(xlabel=\"时 间\", fontsize=17)  \n",
    "plt.xticks(rotation=360,fontsize=15); plt.yticks(fontsize=15)  \n",
    "fig.tight_layout(); plt.savefig(fname=\"fig/5_15.png\")  "
   ]
  },
  {
   "cell_type": "markdown",
   "id": "74768a34",
   "metadata": {},
   "source": [
    "### 例5.8"
   ]
  },
  {
   "cell_type": "markdown",
   "id": "285e3362",
   "metadata": {},
   "source": [
    "div_df = pd.read_csv(\"divorce.csv\", index_col=0)  \n",
    "t = np.arange(1,56); div_df[\"t\"] = t  "
   ]
  },
  {
   "cell_type": "markdown",
   "id": "d7588465",
   "metadata": {
    "scrolled": true
   },
   "source": [
    "results_f = smf.ols('Divorces~ 0 + t', data=div_df).fit()  \n",
    "print(results_f.summary().tables[1])  \n",
    "print('std = ', np.std(results_f.resid))  "
   ]
  },
  {
   "cell_type": "markdown",
   "id": "06a13c4a",
   "metadata": {},
   "source": [
    "div_x = div_df[\"Divorces\"].values[:54]  \n",
    "div_y = div_df[\"Divorces\"].values[1:55]  \n",
    "index = div_df.index[1:55]  \n",
    "div_yx = pd.DataFrame({\"div_x\":div_x, \"div_y\":div_y}, index=index)   "
   ]
  },
  {
   "cell_type": "markdown",
   "id": "4eccf100",
   "metadata": {},
   "source": [
    "results_f2 = smf.ols('div_y~div_x',data=div_yx).fit()  \n",
    "print(results_f2.summary().tables[1])  \n",
    "print('std = ',np.std(results_f2.resid))  "
   ]
  },
  {
   "cell_type": "markdown",
   "id": "39f14e0e",
   "metadata": {},
   "source": [
    "div_nt = div_df.drop(columns=\"t\")  "
   ]
  },
  {
   "cell_type": "markdown",
   "id": "e707e5d9",
   "metadata": {},
   "source": [
    "fig = plt.figure(figsize=(12,4),dpi=150)  \n",
    "ax = fig.add_subplot(111)  \n",
    "div_nt.plot(ax=ax, linestyle=\"-.\", color=\"green\")  \n",
    "results_f.fittedvalues.plot(ax=ax, color=\"blue\")  \n",
    "results_f2.fittedvalues.plot(ax=ax, linestyle=\":\", color=\"red\")  \n",
    "ax.legend([\"Real Values\",\"Fitting line\",\"Regression\"],loc=\"upper left\",fontsize=13)  \n",
    "ax.set_ylabel(ylabel=\"离婚数\", fontsize=17)  \n",
    "ax.set_xlabel(xlabel=\"时 间\", fontsize=17)  \n",
    "plt.xticks(fontsize=15); plt.yticks(fontsize=15)  \n",
    "fig.tight_layout(); plt.savefig(fname='fig/5_16.png')  "
   ]
  },
  {
   "cell_type": "markdown",
   "id": "0386c6d5",
   "metadata": {},
   "source": [
    "print(sm.stats.durbin_watson(results_f2.resid.values))  \n",
    "print(sm.stats.durbin_watson(results_f.resid.values))  "
   ]
  },
  {
   "cell_type": "markdown",
   "id": "a300df66",
   "metadata": {},
   "source": [
    "fig = plt.figure(figsize=(12,4),dpi=150)  \n",
    "ax1 = fig.add_subplot(121)  \n",
    "ACF(results_f.resid,lag=11)  \n",
    "ax2 = fig.add_subplot(122)  \n",
    "PACF(results_f.resid,lag=11, xlabel='lag', fname='fig/5_17.png')  "
   ]
  },
  {
   "cell_type": "markdown",
   "id": "d79f726d",
   "metadata": {},
   "source": [
    "from statsmodels.tsa.ar_model import AutoReg  "
   ]
  },
  {
   "cell_type": "markdown",
   "id": "985efe43",
   "metadata": {},
   "source": [
    "rsd = pd.Series(results_f.resid.values)  \n",
    "res = AutoReg(rsd, lags=1,trend='n').fit()  \n",
    "print(res.summary().tables[1])  \n",
    "print('std = ',np.std(res.resid))  "
   ]
  },
  {
   "cell_type": "markdown",
   "id": "b233e44a",
   "metadata": {},
   "source": [
    "acorr_ljungbox(res.resid[1:],lags = [6,12,24],boxpierce=True, return_df=True)"
   ]
  }
 ],
 "metadata": {
  "kernelspec": {
   "display_name": "Python 3 (ipykernel)",
   "language": "python",
   "name": "python3"
  },
  "language_info": {
   "codemirror_mode": {
    "name": "ipython",
    "version": 3
   },
   "file_extension": ".py",
   "mimetype": "text/x-python",
   "name": "python",
   "nbconvert_exporter": "python",
   "pygments_lexer": "ipython3",
   "version": "3.9.11"
  }
 },
 "nbformat": 4,
 "nbformat_minor": 5
}
