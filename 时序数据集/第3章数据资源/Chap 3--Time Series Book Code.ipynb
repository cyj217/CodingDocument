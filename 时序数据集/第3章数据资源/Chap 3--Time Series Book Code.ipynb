{
 "cells": [
  {
   "cell_type": "markdown",
   "id": "e659721f",
   "metadata": {},
   "source": [
    "# 第三章"
   ]
  },
  {
   "cell_type": "markdown",
   "id": "6e43b6fd",
   "metadata": {},
   "source": [
    "os.chdir(\"D:\\\\TSBOOKDATA\\\\Chap3\") #改变工作目录   "
   ]
  },
  {
   "cell_type": "markdown",
   "id": "a196545e",
   "metadata": {},
   "source": [
    "### 例3.1"
   ]
  },
  {
   "cell_type": "markdown",
   "id": "f3514164",
   "metadata": {},
   "source": [
    "qhcpi_df = pd.read_csv('cpi.csv',usecols=['Date','QHCPI'],index_col=0)  "
   ]
  },
  {
   "cell_type": "markdown",
   "id": "4accc6b4",
   "metadata": {},
   "source": [
    "fig = plt.figure(figsize=(12,4), dpi=150)  \n",
    "ax = fig.add_subplot(111)  \n",
    "ax.plot(qhcpi_df, marker=\"o\", linestyle=\"-\", color='blue')  \n",
    "ax.xaxis.set_major_locator(ticker.MultipleLocator(3))  \n",
    "ax.set_ylabel(ylabel=\"青海省居民消费指数\", fontsize=17)  \n",
    "ax.set_xlabel(xlabel=\"时间\", fontsize=17)  \n",
    "plt.xticks(fontsize=15); plt.yticks(fontsize=15)  \n",
    "fig.tight_layout(); plt.savefig(fname='fig/3_1.png')  "
   ]
  },
  {
   "cell_type": "markdown",
   "id": "84f9ab22",
   "metadata": {},
   "source": [
    "acorr_ljungbox(qhcpi_df, lags = [6, 12], boxpierce=False, return_df=True)    "
   ]
  },
  {
   "cell_type": "markdown",
   "id": "c90e2d8b",
   "metadata": {},
   "source": [
    "fig = plt.figure(figsize=(12,4), dpi=150)  \n",
    "ax1 = fig.add_subplot(121)  \n",
    "ACF(qhcpi_df,lag=16)  \n",
    "ax2 = fig.add_subplot(122)  \n",
    "PACF(qhcpi_df,lag=8,xlabel='lag',fname='fig/3_2.png')  "
   ]
  },
  {
   "cell_type": "markdown",
   "id": "37bc9690",
   "metadata": {},
   "source": [
    "### 例3.2"
   ]
  },
  {
   "cell_type": "markdown",
   "id": "4a20dc67",
   "metadata": {},
   "source": [
    "jtsgs_df = pd.read_csv('SGS.csv',usecols=['year','JTSGS'],index_col=0)  "
   ]
  },
  {
   "cell_type": "markdown",
   "id": "6b162846",
   "metadata": {},
   "source": [
    "fig = plt.figure(figsize=(12,4), dpi=150)  \n",
    "ax = fig.add_subplot(111)  \n",
    "ax.plot(jtsgs_df, marker=\"o\", linestyle=\"-\", color='blue')  \n",
    "ax.xaxis.set_major_locator(ticker.MultipleLocator(10))  \n",
    "ax.set_ylabel(ylabel=\"交通事故数\", fontsize=17)  \n",
    "ax.set_xlabel(xlabel=\"时间\", fontsize=17)  \n",
    "plt.xticks(fontsize=15); plt.yticks(fontsize=15)  \n",
    "fig.tight_layout(); plt.savefig(fname='fig/3_3.png')  "
   ]
  },
  {
   "cell_type": "markdown",
   "id": "c92a0aa4",
   "metadata": {},
   "source": [
    "acorr_ljungbox(jtsgs_df, lags = [1,2,3],boxpierce=True,return_df=True)   "
   ]
  },
  {
   "cell_type": "markdown",
   "id": "263b09fd",
   "metadata": {},
   "source": [
    "fig = plt.figure(figsize=(12,4), dpi=150)  \n",
    "ax1 = fig.add_subplot(121)  \n",
    "ACF(jtsgs_df,lag=24)  \n",
    "ax2 = fig.add_subplot(122)  \n",
    "PACF(jtsgs_df,lag=24, xlabel='lag', fname='fig/3_4.png')  "
   ]
  },
  {
   "cell_type": "markdown",
   "id": "6ee705a8",
   "metadata": {},
   "source": [
    "### 例3.3"
   ]
  },
  {
   "cell_type": "markdown",
   "id": "05f0201b",
   "metadata": {},
   "source": [
    "huozhai_df = pd.read_csv('huozhai.csv',usecols=['year','fire'],index_col=0)  "
   ]
  },
  {
   "cell_type": "markdown",
   "id": "facd2514",
   "metadata": {},
   "source": [
    "fig = plt.figure(figsize=(12,4), dpi=150)  \n",
    "ax = fig.add_subplot(111)  \n",
    "ax.plot(jtsgs_df, marker=\"o\", linestyle=\"-\", color='blue')  \n",
    "ax.xaxis.set_major_locator(ticker.MultipleLocator(10))  \n",
    "ax.set_ylabel(ylabel=\"火灾数\", fontsize=17)  \n",
    "ax.set_xlabel(xlabel=\"时间\", fontsize=17)  \n",
    "plt.xticks(fontsize=15); plt.yticks(fontsize=15)  \n",
    "fig.tight_layout(); plt.savefig(fname='fig/3_5.png')  "
   ]
  },
  {
   "cell_type": "markdown",
   "id": "e2291031",
   "metadata": {},
   "source": [
    "acorr_ljungbox(huozhai_df, lags = [5, 10],boxpierce=True,return_df=True)  "
   ]
  },
  {
   "cell_type": "markdown",
   "id": "4a155dee",
   "metadata": {},
   "source": [
    "fig = plt.figure(figsize=(12,4), dpi=150)  \n",
    "ax1 = fig.add_subplot(121)  \n",
    "ACF(huozhai_df,lag=24)  \n",
    "ax2 = fig.add_subplot(122)  \n",
    "PACF(huozhai_df,lag=24, xlabel='lag', fname='fig/3_6.png')  "
   ]
  },
  {
   "cell_type": "markdown",
   "id": "93414979",
   "metadata": {},
   "source": [
    "### 例3.4"
   ]
  },
  {
   "cell_type": "markdown",
   "id": "fb8c2d88",
   "metadata": {},
   "source": [
    "from statsmodels.tsa.arima.model import ARIMA   "
   ]
  },
  {
   "cell_type": "markdown",
   "id": "3456ef1a",
   "metadata": {},
   "source": [
    "qh_est = ARIMA(qhcpi_df,order=(2,0,0)).fit()  \n",
    "print(qh_est.summary().tables[1])  "
   ]
  },
  {
   "cell_type": "markdown",
   "id": "ae059299",
   "metadata": {},
   "source": [
    "### 例3.5"
   ]
  },
  {
   "cell_type": "markdown",
   "id": "38bc4e6c",
   "metadata": {},
   "source": [
    "jtsgs_est = ARIMA(jtsgs_df,order=(0,0,1)).fit()  \n",
    "print(jtsgs_est.summary().tables[1])  "
   ]
  },
  {
   "cell_type": "markdown",
   "id": "d40f32d7",
   "metadata": {},
   "source": [
    "### 例3.6"
   ]
  },
  {
   "cell_type": "markdown",
   "id": "4bbabd84",
   "metadata": {
    "scrolled": true
   },
   "source": [
    "huozhai_est = ARIMA(huozhai_df,order=(2,0,1)).fit()  \n",
    "print(huozhai_est.summary().tables[1])  "
   ]
  },
  {
   "cell_type": "markdown",
   "id": "c0d4cb09",
   "metadata": {},
   "source": [
    "### 例3.7"
   ]
  },
  {
   "cell_type": "markdown",
   "id": "5a3e22ab",
   "metadata": {},
   "source": [
    "qh_resid = qh_est.resid  \n",
    "acorr_ljungbox(qh_resid, lags = [6,12], boxpierce=True, return_df=True)  "
   ]
  },
  {
   "cell_type": "markdown",
   "id": "7628bd6e",
   "metadata": {},
   "source": [
    "### 例3.8"
   ]
  },
  {
   "cell_type": "markdown",
   "id": "a654d949",
   "metadata": {},
   "source": [
    "def pt(x,df):  \n",
    "&ensp;&ensp;&ensp;if(x <= 0):  \n",
    "&ensp;&ensp;&ensp;&ensp;&ensp;&ensp;pv = t.cdf(x,int(df))  \n",
    "&ensp;&ensp;&ensp;else:  \n",
    "&ensp;&ensp;&ensp;&ensp;&ensp;&ensp;pv = t.sf(x,int(df))  \n",
    "&ensp;&ensp;&ensp;return pv  "
   ]
  },
  {
   "cell_type": "markdown",
   "id": "b2321772",
   "metadata": {},
   "source": [
    "from scipy.stats import t  "
   ]
  },
  {
   "cell_type": "markdown",
   "id": "7cc08331",
   "metadata": {},
   "source": [
    "t1 = 1.0233/0.337  \n",
    "t2 = -0.5067/0.235  \n",
    "t0 = 101.5001/0.339  \n",
    "x = pt(t1,15)  \n",
    "y = pt(t2,15)  \n",
    "z = pt(t0,15)  \n",
    "print(x,y,z)  "
   ]
  },
  {
   "cell_type": "markdown",
   "id": "120f3580",
   "metadata": {},
   "source": [
    "### 例3.9"
   ]
  },
  {
   "cell_type": "markdown",
   "id": "9f95dfa4",
   "metadata": {},
   "source": [
    "qh_est2 = ARIMA(qhcpi_df,order=(2,0,1)).fit()  \n",
    "qh_resid2 = qh_est2.resid  \n",
    "acorr_ljungbox(qh_resid2, lags=[6,12], boxpierce=True, return_df=True)  "
   ]
  },
  {
   "cell_type": "markdown",
   "id": "9b77d524",
   "metadata": {},
   "source": [
    "print(qh_est2.aic,qh_est2.bic,qh_est2.aicc,qh_est2.hqic)  "
   ]
  },
  {
   "cell_type": "markdown",
   "id": "ba02ce78",
   "metadata": {},
   "source": [
    "### 例3.10"
   ]
  },
  {
   "cell_type": "markdown",
   "id": "254f580a",
   "metadata": {},
   "source": [
    "def auto_arma(x,n=10,info=\"bic\"):  \n",
    "&ensp;&ensp;&ensp;pmax = int(len(x)/n)    #一般阶数不超过 length /10  \n",
    "&ensp;&ensp;&ensp;qmax = int(len(x)/n)  \n",
    "&ensp;&ensp;&ensp;bic_matrix = []  \n",
    "&ensp;&ensp;&ensp;for p in range(pmax+1):  \n",
    "&ensp;&ensp;&ensp;&ensp;&ensp;&ensp;temp= []  \n",
    "&ensp;&ensp;&ensp;&ensp;&ensp;&ensp;for q in range(qmax+1):  \n",
    "&ensp;&ensp;&ensp;&ensp;&ensp;&ensp;&ensp;&ensp;&ensp;try:  \n",
    "&ensp;&ensp;&ensp;&ensp;&ensp;&ensp;&ensp;&ensp;&ensp;&ensp;&ensp;if(info == \"bic\"):  \n",
    "&ensp;&ensp;&ensp;&ensp;&ensp;&ensp;&ensp;&ensp;&ensp;&ensp;&ensp;&ensp;&ensp;&ensp;temp.append(ARIMA(nxcpi_df,order=(p, 0, q)).fit().bic)  \n",
    "&ensp;&ensp;&ensp;&ensp;&ensp;&ensp;&ensp;&ensp;&ensp;&ensp;&ensp;else:  \n",
    "&ensp;&ensp;&ensp;&ensp;&ensp;&ensp;&ensp;&ensp;&ensp;&ensp;&ensp;&ensp;&ensp;&ensp;temp.append(ARIMA(nxcpi_df,order=(p, 0, q)).fit().aic)  \n",
    "&ensp;&ensp;&ensp;&ensp;&ensp;&ensp;&ensp;&ensp;&ensp;except:  \n",
    "&ensp;&ensp;&ensp;&ensp;&ensp;&ensp;&ensp;&ensp;&ensp;&ensp;&ensp;temp.append(None)  \n",
    "&ensp;&ensp;&ensp;&ensp;&ensp;&ensp;bic_matrix.append(temp)  \n",
    "&ensp;&ensp;&ensp;bic_matrix = pd.DataFrame(bic_matrix)   #将其转换成Dataframe 数据结构  \n",
    "&ensp;&ensp;&ensp;p,q = bic_matrix.stack().astype('float64').idxmin()   #先使用stack 展平， 然后使用 idxmin 找出最小值的位置  \n",
    "&ensp;&ensp;&ensp;print('最小的p值 和 q 值：%s,%s' %(p,q))  #  最小的p值 和 q 值：0,1  \n",
    "&ensp;&ensp;&ensp;model = ARIMA(nxcpi_df,order=(p,0,q)).fit()  \n",
    "&ensp;&ensp;&ensp;return model.summary().tables[1]     "
   ]
  },
  {
   "cell_type": "markdown",
   "id": "251350c9",
   "metadata": {},
   "source": [
    "nxcpi_df = pd.read_csv('cpi.csv', usecols=['Date','NXCPI'], index_col=0)  "
   ]
  },
  {
   "cell_type": "markdown",
   "id": "a695b85f",
   "metadata": {},
   "source": [
    "auto_arma(nxcpi_df,5)  "
   ]
  },
  {
   "cell_type": "markdown",
   "id": "8e24b815",
   "metadata": {},
   "source": [
    "### 例3.13"
   ]
  },
  {
   "cell_type": "markdown",
   "id": "2fd3e8a7",
   "metadata": {},
   "source": [
    "qh_pred = qh_est.get_prediction(start=19,end=24)  \n",
    "confint1 = qh_pred.conf_int(alpha=0.20)  \n",
    "confint2 = qh_pred.conf_int(alpha=0.05)  "
   ]
  },
  {
   "cell_type": "markdown",
   "id": "c0d277da",
   "metadata": {},
   "source": [
    "confint = pd.concat([confint1,confint2],axis=1,ignore_index=False)  \n",
    "print(confint)  "
   ]
  },
  {
   "cell_type": "markdown",
   "id": "42f73ed5",
   "metadata": {},
   "source": [
    "fig = plt.figure(figsize=(12,4), dpi=150)  \n",
    "ax = fig.add_subplot(111)  \n",
    "ax.plot(qhcpi_df[1:],color='red')  \n",
    "qh_pred.predicted_mean.plot(ax=ax,color='b')  \n",
    "ax.fill_between(confint1.index,confint1.iloc[:,0],confint1.iloc[:,1],color='k',alpha=.1)  \n",
    "ax.fill_between(confint2.index,confint2.iloc[:,0],confint2.iloc[:,1],color='k',alpha=.1)  \n",
    "ax.set_xlabel(xlabel=\"时间\", fontsize=17)  \n",
    "plt.legend(loc=2,labels=['real_values','predicted_value'],fontsize=13)  \n",
    "plt.xticks(fontsize=15); plt.yticks(fontsize=15)  \n",
    "fig.tight_layout(); plt.savefig(fname='fig/3_7.png')  "
   ]
  }
 ],
 "metadata": {
  "kernelspec": {
   "display_name": "Python 3 (ipykernel)",
   "language": "python",
   "name": "python3"
  },
  "language_info": {
   "codemirror_mode": {
    "name": "ipython",
    "version": 3
   },
   "file_extension": ".py",
   "mimetype": "text/x-python",
   "name": "python",
   "nbconvert_exporter": "python",
   "pygments_lexer": "ipython3",
   "version": "3.9.11"
  }
 },
 "nbformat": 4,
 "nbformat_minor": 5
}
