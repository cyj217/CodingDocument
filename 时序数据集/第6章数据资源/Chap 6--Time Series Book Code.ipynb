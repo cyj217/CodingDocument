{
 "cells": [
  {
   "cell_type": "markdown",
   "id": "bfbd319e",
   "metadata": {},
   "source": [
    "# 第六章"
   ]
  },
  {
   "cell_type": "markdown",
   "id": "af1356df",
   "metadata": {},
   "source": [
    "os.chdir(\"D:\\\\TSBOOKDATA\\\\Chap6\") #改变工作目录   "
   ]
  },
  {
   "cell_type": "markdown",
   "id": "80360cc6",
   "metadata": {},
   "source": [
    "### 图6.1"
   ]
  },
  {
   "cell_type": "markdown",
   "id": "86eeac70",
   "metadata": {},
   "source": [
    "ar = np.r_[1, 0,0,0,0,0,0,0,0,0,0,0,-0.7]  \n",
    "ma1 = np.r_[1, 0.4]; ma2= np.r_[1, -0.4]  \n",
    "np.random.seed(601)  \n",
    "mod_data1 = sm.tsa.arma_generate_sample(ar, ma1, 200)  \n",
    "np.random.seed(602)  \n",
    "mod_data2 = sm.tsa.arma_generate_sample(ar, ma2, 200)  \n",
    "mod_Series1 = pd.Series(mod_data1)  \n",
    "mod_Series2 = pd.Series(mod_data2)  "
   ]
  },
  {
   "cell_type": "markdown",
   "id": "930651a8",
   "metadata": {},
   "source": [
    "fig = plt.figure(figsize=(12,4),dpi=150)  \n",
    "ax1 = fig.add_subplot(121)  \n",
    "ACF(mod_Series1,lag=60); plt.legend(['$θ=0.4, ϕ=0.7$'])  \n",
    "ax2 = fig.add_subplot(122)  \n",
    "ACF(mod_Series2,lag=60, fname='fig/6_1.png')  \n",
    "plt.legend(['$θ=-0.4, ϕ=0.7$'])  "
   ]
  },
  {
   "cell_type": "markdown",
   "id": "1d86d3bd",
   "metadata": {},
   "source": [
    "### 例6.1"
   ]
  },
  {
   "cell_type": "markdown",
   "id": "dac799c6",
   "metadata": {},
   "source": [
    "carb_data = np.loadtxt(\"carbondioxide.txt\")  \n",
    "index = pd.date_range(start=\"1966-01\", end=\"1991-01\", freq=\"M\")  \n",
    "carb_df = pd.Series(carb_data,index=index)  \n",
    "carb_diff = carb_df.diff()  "
   ]
  },
  {
   "cell_type": "markdown",
   "id": "989c4b9e",
   "metadata": {},
   "source": [
    "fig = plt.figure(figsize=(12,6),dpi=150)  \n",
    "ax1 = fig.add_subplot(211)  \n",
    "ax1.plot(carb_df, linestyle=\"-\", color=\"blue\")  \n",
    "ax1.set_ylabel(ylabel=\"二氧化碳排放量\",fontsize=17)  \n",
    "ax1.set_xlabel(xlabel=\"时间\", fontsize=17)  \n",
    "plt.xticks(fontsize=15); plt.yticks(fontsize=15)  \n",
    "ax2 = fig.add_subplot(212)  \n",
    "ax2.plot(carb_diff, linestyle=\"-\", color=\"blue\")  \n",
    "ax2.set_ylabel(ylabel=\"一阶差分\", fontsize=17)  \n",
    "ax2.set_xlabel(xlabel=\"时间\", fontsize=17)  \n",
    "plt.xticks(fontsize=15); plt.yticks(fontsize=15)  \n",
    "fig.tight_layout(); plt.savefig(fname='fig/6_2.png')  "
   ]
  },
  {
   "cell_type": "markdown",
   "id": "3ba0cf5a",
   "metadata": {},
   "source": [
    "carb_diff2 = carb_diff.diff(12)  "
   ]
  },
  {
   "cell_type": "markdown",
   "id": "f0d02830",
   "metadata": {},
   "source": [
    "fig = plt.figure(figsize=(12,4), dpi=150)  \n",
    "ax = fig.add_subplot(111)  \n",
    "ax.plot(carb_diff2, linestyle=\"-\", color=\"blue\")  \n",
    "ax.set_ylabel(ylabel=\"季节差分\",fontsize=17)  \n",
    "ax.set_xlabel(xlabel=\"时间\",fontsize=17)  \n",
    "plt.xticks(fontsize=15); plt.yticks(fontsize=15)  \n",
    "fig.tight_layout(); plt.savefig(fname='fig/6_3.png')  "
   ]
  },
  {
   "cell_type": "markdown",
   "id": "f3d82d13",
   "metadata": {},
   "source": [
    "fig = plt.figure(figsize=(12,4),dpi=150)  \n",
    "ax1 = fig.add_subplot(121)  \n",
    "ACF(carb_diff2.dropna(),lag=55)  \n",
    "ax2 = fig.add_subplot(122)  \n",
    "PACF(carb_diff2.dropna(),lag=55, xlabel='lag', fname='fig/6_4.png')  "
   ]
  },
  {
   "cell_type": "markdown",
   "id": "8db8a47d",
   "metadata": {},
   "source": [
    "mod = sm.tsa.statespace.SARIMAX(carb_df, order=(0,1,1), seasonal_order=(0,1,1,12))  \n",
    "res = mod.fit()  \n",
    "print(res.summary().tables[1])  "
   ]
  },
  {
   "cell_type": "markdown",
   "id": "5d7129c0",
   "metadata": {},
   "source": [
    "resid = res.resid[20:]  \n",
    "resid_sd = (resid-np.mean(resid))/np.std(resid)  \n",
    "lags = np.arange(1,40)  \n",
    "Box_test = acorr_ljungbox(resid_sd,lags = lags, boxpierce=True, return_df=True)  \n",
    "LB_p = Box_test.lb_pvalue  "
   ]
  },
  {
   "cell_type": "markdown",
   "id": "29af8c48",
   "metadata": {},
   "source": [
    "fig = plt.figure(figsize=(12,9),dpi=150)  \n",
    "ax1 = fig.add_subplot(311)  \n",
    "ax1.plot(resid_sd);plt.title('Standardized Residuals',fontsize=17)  \n",
    "plt.xticks(fontsize=15);plt.yticks(fontsize=15)  \n",
    "\n",
    "ax2 = fig.add_subplot(323)  \n",
    "ACF(resid);plt.title('ACF of Residuals',fontsize=17)  \n",
    "\n",
    "ax3 = fig.add_subplot(324)  \n",
    "sm.qqplot(resid_sd, fit=True, line=\"s\",ax=ax3)  \n",
    "plt.title('Normal Q-Q Plot of Std Residuals',fontsize=17)  \n",
    "plt.xticks(fontsize=15);plt.yticks(fontsize=15)  \n",
    "\n",
    "ax4 = fig.add_subplot(313)  \n",
    "ax4.scatter(lags,LB_p,color=\"blue\")  \n",
    "plt.xlabel(xlabel=\"lag\",fontsize=17)  \n",
    "plt.ylabel(ylabel=\"P values\",fontsize=17)  \n",
    "plt.title('P values for Ljung-Box statistic',fontsize=17)  \n",
    "plt.xticks(fontsize=15);plt.yticks(fontsize=15)  \n",
    "\n",
    "fig.tight_layout()  \n",
    "plt.savefig(fname='fig/6_5.png')  "
   ]
  },
  {
   "cell_type": "markdown",
   "id": "df272b5a",
   "metadata": {},
   "source": [
    "### 例6.2"
   ]
  },
  {
   "cell_type": "markdown",
   "id": "d506fe56",
   "metadata": {},
   "source": [
    "carb_data = np.loadtxt(\"carbondioxide.txt\")  \n",
    "index = pd.date_range(start=\"1966-01\", end=\"1991-01\", freq=\"M\")  \n",
    "carb_full = pd.Series(carb_data,index=index)  "
   ]
  },
  {
   "cell_type": "markdown",
   "id": "807d7c0e",
   "metadata": {},
   "source": [
    "carb_drop = carb_data[0:290]  \n",
    "index = pd.date_range(start=\"1966-01\", end=\"1990-03\", freq=\"M\")  \n",
    "carb_df = pd.Series(carb_drop, index=index)  "
   ]
  },
  {
   "cell_type": "markdown",
   "id": "35af4a52",
   "metadata": {},
   "source": [
    "res = sm.tsa.statespace.SARIMAX(carb_df, order=(0,1,1), seasonal_order=(0,1,1,12)).fit()  \n",
    "print(res.summary().tables[1])  "
   ]
  },
  {
   "cell_type": "markdown",
   "id": "7485c646",
   "metadata": {},
   "source": [
    "carb_pred = res.get_prediction(start=290,end=299)  \n",
    "confint1 = carb_pred.conf_int(alpha=0.20)  \n",
    "confint2 = carb_pred.conf_int(alpha=0.05)  "
   ]
  },
  {
   "cell_type": "markdown",
   "id": "2482f653",
   "metadata": {},
   "source": [
    "confint = pd.concat([carb_pred.predicted_mean, confint1, confint2], axis=1, ignore_index=False)  \n",
    "print(confint)  "
   ]
  },
  {
   "cell_type": "markdown",
   "id": "667c0feb",
   "metadata": {},
   "source": [
    "fig = plt.figure(figsize=(12,4),dpi=150)  \n",
    "ax1 = fig.add_subplot(121)  \n",
    "ax1.plot(carb_df,linestyle=\"-\",linewidth=0.8, color=\"green\")  \n",
    "ax1.plot(carb_pred.predicted_mean, linestyle=\":\", color=\"blue\")  \n",
    "ax1.set_ylabel(ylabel=\"二氧化碳排放量\",fontsize=17)  \n",
    "ax1.fill_between(confint1.index,confint1.iloc[:,0],confint1.iloc[:,1],color='k',alpha=.2)  \n",
    "ax1.fill_between(confint2.index,confint2.iloc[:,0],confint2.iloc[:,1],color='k',alpha=.2)  \n",
    "ax1.set_xlabel(xlabel=\"时间\",fontsize=17)  \n",
    "plt.xticks(fontsize=15); plt.yticks(fontsize=15)  \n",
    "ax2 = fig.add_subplot(122)  \n",
    "ax2.plot(carb_full,linestyle=\"-\",linewidth=0.8, color=\"green\")  \n",
    "ax2.plot(carb_pred.predicted_mean,linestyle=\":\", color=\"blue\")  \n",
    "plt.legend(loc=2,labels=['实际值','预测值'],fontsize=13)  \n",
    "ax2.set_xlabel(xlabel=\"时间\",fontsize=17)  \n",
    "plt.xticks(fontsize=15); plt.yticks(fontsize=15)  \n",
    "fig.tight_layout(); plt.savefig(fname='fig/6_6.png')  "
   ]
  }
 ],
 "metadata": {
  "kernelspec": {
   "display_name": "Python 3 (ipykernel)",
   "language": "python",
   "name": "python3"
  },
  "language_info": {
   "codemirror_mode": {
    "name": "ipython",
    "version": 3
   },
   "file_extension": ".py",
   "mimetype": "text/x-python",
   "name": "python",
   "nbconvert_exporter": "python",
   "pygments_lexer": "ipython3",
   "version": "3.9.11"
  }
 },
 "nbformat": 4,
 "nbformat_minor": 5
}
