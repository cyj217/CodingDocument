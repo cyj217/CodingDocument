{
 "cells": [
  {
   "cell_type": "markdown",
   "id": "a7b7c5b2",
   "metadata": {},
   "source": [
    "# 第七章"
   ]
  },
  {
   "cell_type": "markdown",
   "id": "163ef482",
   "metadata": {},
   "source": [
    "os.chdir(\"D:\\\\TSBOOKDATA\\\\Chap7\") #改变工作目录   "
   ]
  },
  {
   "cell_type": "markdown",
   "id": "16a29949",
   "metadata": {},
   "source": [
    "### 图7.1"
   ]
  },
  {
   "cell_type": "markdown",
   "id": "5c6cddfe",
   "metadata": {},
   "source": [
    "from scipy import stats  "
   ]
  },
  {
   "cell_type": "markdown",
   "id": "625bb5ef",
   "metadata": {},
   "source": [
    "x = np.linspace(-10,10,100000)  \n",
    "y = stats.t.pdf(x,1000)  \n",
    "z = stats.norm.pdf(x,0,1.5)  \n",
    "fig = plt.figure(figsize=(12,4),dpi=150)  \n",
    "ax = fig.add_subplot(111)  \n",
    "ax.plot(x,y,linestyle=\"-\",color=\"blue\")  \n",
    "ax.plot(x,z,linestyle=\"-.\", color=\"green\")  \n",
    "plt.legend(loc=2,labels=['t 分布','样本分布'],fontsize=13)  \n",
    "plt.xticks(fontsize=15); plt.yticks(fontsize=15)  \n",
    "fig.tight_layout(); plt.savefig(fname='fig/7_1.png')  "
   ]
  },
  {
   "cell_type": "markdown",
   "id": "abcb26fd",
   "metadata": {},
   "source": [
    "### 例7.1"
   ]
  },
  {
   "cell_type": "markdown",
   "id": "11f52212",
   "metadata": {},
   "source": [
    "from statsmodels.tsa.stattools import adfuller  "
   ]
  },
  {
   "cell_type": "markdown",
   "id": "9f8b5adb",
   "metadata": {},
   "source": [
    "le_df = pd.read_csv(\"leaving_entering.csv\",usecols=[\"leaving\",\"year\"],index_col=\"year\")  \n",
    "le_log = np.log(le_df[\"leaving\"])  "
   ]
  },
  {
   "cell_type": "markdown",
   "id": "a5bae232",
   "metadata": {},
   "source": [
    "fig = plt.figure(figsize=(12,4), dpi=150)  \n",
    "ax = fig.add_subplot(111)  \n",
    "ax.plot(le_log, marker=\"o\", linestyle=\"-\", color=\"blue\")  \n",
    "ax.xaxis.set_major_locator(ticker.MultipleLocator(3))  \n",
    "plt.legend([\"出境人数的对数\"],fontsize=13)  \n",
    "plt.xlabel(xlabel=\"时间\",fontsize=17)  \n",
    "plt.ylabel(ylabel=\"出境人数的对数\", fontsize=17)  \n",
    "plt.xticks(fontsize=15);plt.yticks(fontsize=15)  \n",
    "plt.tight_layout(); plt.savefig(\"fig/7_2.png\")  "
   ]
  },
  {
   "cell_type": "markdown",
   "id": "9f36d8fd",
   "metadata": {},
   "source": [
    "dftest = adfuller(le_log, maxlag=1, regression=\"c\")  \n",
    "dfoutput = pd.Series(dftest[0:4],index=[\"Test Statistic\",\"p-value\",\"#Lags Used\",\"Number of Observations Used\",])  \n",
    "for key, value in dftest[4].items():  \n",
    "&ensp;&ensp;&ensp;&ensp;&ensp;dfoutput[\"Critical Value (%s)\" % key] = value  \n",
    "print(\"Results of Dickey-Fuller Test:\",'\\n',dfoutput)  "
   ]
  },
  {
   "cell_type": "markdown",
   "id": "cfdd884a",
   "metadata": {},
   "source": [
    "### 例7.2"
   ]
  },
  {
   "cell_type": "markdown",
   "id": "dd08487f",
   "metadata": {},
   "source": [
    "from statsmodels.tsa.stattools import kpss  "
   ]
  },
  {
   "cell_type": "markdown",
   "id": "6197dfbb",
   "metadata": {},
   "source": [
    "en_df = pd.read_csv(\"leaving_entering.csv\", usecols=[\"entering\",\"year\"], index_col=\"year\")  \n",
    "en_log = np.log(en_df[\"entering\"])  "
   ]
  },
  {
   "cell_type": "markdown",
   "id": "98a9b6a6",
   "metadata": {},
   "source": [
    "fig = plt.figure(figsize=(12,4),dpi=150)  \n",
    "ax = fig.add_subplot(111)  \n",
    "ax.plot(en_log, marker=\"o\", linestyle=\"-\", color=\"blue\")  \n",
    "ax.xaxis.set_major_locator(ticker.MultipleLocator(3))  \n",
    "plt.legend([\"入境游客人数的对数\"], fontsize=13)  \n",
    "plt.xlabel(xlabel=\"时间\", fontsize=17)  \n",
    "plt.ylabel(ylabel=\"入境游客人数的对数\",fontsize=17)  \n",
    "plt.xticks(fontsize=15); plt.yticks(fontsize=15)  \n",
    "plt.tight_layout(); plt.savefig(\"fig/7_3.png\")  "
   ]
  },
  {
   "cell_type": "markdown",
   "id": "396e911d",
   "metadata": {},
   "source": [
    "def kpss_test(timeseries):  \n",
    "&ensp;&ensp;&ensp;&ensp;print(\"Results of KPSS Test:\")  \n",
    "&ensp;&ensp;&ensp;&ensp;kpsstest = kpss(timeseries, regression=\"c\", nlags=\"auto\")  \n",
    "&ensp;&ensp;&ensp;&ensp;kpss_output = pd.Series(kpsstest[0:3], index=[\"Test Statistic\", \"p-value\", \"Lags Used\"])  \n",
    "&ensp;&ensp;&ensp;&ensp;for key, value in kpsstest[3].items():  \n",
    "&ensp;&ensp;&ensp;&ensp;&ensp;&ensp;&ensp;&ensp;kpss_output[\"Critical Value (%s)\" % key] = value  \n",
    "&ensp;&ensp;&ensp;&ensp;print(kpss_output)  "
   ]
  },
  {
   "cell_type": "markdown",
   "id": "f0be3acc",
   "metadata": {},
   "source": [
    "kpss_test(en_log)  "
   ]
  },
  {
   "cell_type": "markdown",
   "id": "af0a656c",
   "metadata": {},
   "source": [
    "### 例7.3"
   ]
  },
  {
   "cell_type": "markdown",
   "id": "558931cb",
   "metadata": {},
   "source": [
    "currency_data = np.log(np.loadtxt(\"currency.txt\"))  \n",
    "index = pd.date_range(start=\"2014-10\", end=\"2017-09\", freq=\"M\")  \n",
    "currency_df = pd.Series(currency_data,index=index)  \n",
    "currency_diff = currency_df.diff().dropna()  "
   ]
  },
  {
   "cell_type": "markdown",
   "id": "b3c61a56",
   "metadata": {},
   "source": [
    "kpss_test(currency_diff)  "
   ]
  },
  {
   "cell_type": "markdown",
   "id": "c85e01dc",
   "metadata": {},
   "source": [
    "### 例7.4"
   ]
  },
  {
   "cell_type": "markdown",
   "id": "b337cef5",
   "metadata": {},
   "source": [
    "np.random.seed(701); e1 = np.random.normal(0,1,1000)  \n",
    "index = np.arange(1,1001); e1_df = pd.Series(e1,index=index)  \n",
    "np.random.seed(702); e2 = np.random.normal(0,1,1000)  \n",
    "e2_df = pd.Series(e2,index=index); x2_df = e2_df.cumsum()  \n",
    "x1_df = 0.5\\*x2_df+e1_df  "
   ]
  },
  {
   "cell_type": "markdown",
   "id": "95e0ffc1",
   "metadata": {},
   "source": [
    "fig = plt.figure(figsize=(12,6),dpi=150)  \n",
    "ax1 = fig.add_subplot(221)  \n",
    "ax1.plot(x1_df,linestyle=\"-\",color=\"blue\")  \n",
    "plt.xlabel(xlabel=\"(a)\",fontsize=17)  \n",
    "plt.title(\"$x_{1t}\\sim$I(1) \")  \n",
    "plt.xticks(fontsize=15); plt.yticks(fontsize=15)  \n",
    "ax2 = fig.add_subplot(222)  \n",
    "ax2.plot(x2_df,linestyle=\"-\",color=\"green\")  \n",
    "plt.xlabel(xlabel=\"(b)\",fontsize=17)  \n",
    "plt.title(\"$x_{2t}\\sim$I(1) \")  \n",
    "plt.xticks(fontsize=15); plt.yticks(fontsize=15)  \n",
    "ax3 = fig.add_subplot(223)  \n",
    "ax3.plot(x1_df,linestyle=\"-\",color=\"blue\")  \n",
    "ax3.plot(x2_df,linestyle=\"-\",color=\"green\")  \n",
    "plt.xlabel(xlabel=\"(c)\",fontsize=17)  \n",
    "plt.title(\"cointegration\")  \n",
    "plt.xticks(fontsize=15); plt.yticks(fontsize=15)  \n",
    "ax4 = fig.add_subplot(224)  \n",
    "ax4.plot(x1_df-0.5\\*x2_df,linestyle=\"-\",color=\"red\")  \n",
    "plt.xlabel(xlabel=\"(d)\",fontsize=18)  \n",
    "plt.title(\"$x_{1t}-0.5x_{2t}\\sim$I(0)\")  \n",
    "plt.xticks(fontsize=15); plt.yticks(fontsize=15)  \n",
    "plt.tight_layout(); plt.savefig(\"fig/7_4.png\")  "
   ]
  },
  {
   "cell_type": "markdown",
   "id": "106f8bd3",
   "metadata": {},
   "source": [
    "### 例7.5"
   ]
  },
  {
   "cell_type": "markdown",
   "id": "a5f66e3f",
   "metadata": {},
   "source": [
    "from statsmodels.tsa.stattools import coint  "
   ]
  },
  {
   "cell_type": "markdown",
   "id": "4798011c",
   "metadata": {},
   "source": [
    "income_df = pd.read_csv(\"Inc_con.csv\",usecols=[\"income\",\"year\"],index_col=\"year\")  \n",
    "consumption_df = pd.read_csv(\"Inc_con.csv\",usecols=[\"consumption\",\"year\"],index_col=\"year\")  "
   ]
  },
  {
   "cell_type": "markdown",
   "id": "3ca9cfa8",
   "metadata": {},
   "source": [
    "fig = plt.figure(figsize=(12,4), dpi=150)  \n",
    "ax = fig.add_subplot(111)  \n",
    "ax.plot(income_df,marker=\"o\", linestyle=\"-\", color=\"blue\")  \n",
    "ax.plot(consumption_df, linestyle=\"-.\", color=\"green\")  \n",
    "plt.legend([\"农村人均纯收入\", \"人均现金消费支出\"], fontsize=13)  \n",
    "plt.xlabel(xlabel=\"时间\",fontsize=17)  \n",
    "plt.xticks(fontsize=15);plt.yticks(fontsize=15)  \n",
    "plt.tight_layout(); plt.savefig(\"fig/7_5.png\")  "
   ]
  },
  {
   "cell_type": "markdown",
   "id": "37c8ffac",
   "metadata": {},
   "source": [
    "def coint_test(y0,y1,trend=\"c\",autolag=\"AIC\",maxlag=None):  \n",
    "&ensp;&ensp;&ensp;&ensp;print(\"Results of EG Test:\")  \n",
    "&ensp;&ensp;&ensp;&ensp;cointtest = coint(y0, y1, trend=trend,autolag=autolag,maxlag=maxlag)  \n",
    "&ensp;&ensp;&ensp;&ensp;coint_output = pd.Series(cointtest[0:2],index=[\"Test Statistic\", \"p-value\"])  \n",
    "&ensp;&ensp;&ensp;&ensp;coi = {'1%' : cointtest[2][0],'5%' :cointtest[2][1],'10%' : cointtest[2][2]}  \n",
    "&ensp;&ensp;&ensp;&ensp;for key, value in coi.items():  \n",
    "&ensp;&ensp;&ensp;&ensp;&ensp;&ensp;&ensp;&ensp;coint_output[\"Critical Value (%s)\" % key] = value  \n",
    "&ensp;&ensp;&ensp;&ensp;print(coint_output)  "
   ]
  },
  {
   "cell_type": "markdown",
   "id": "ec6b4d9a",
   "metadata": {},
   "source": [
    "coint_test(consumption_df,income_df)  "
   ]
  },
  {
   "cell_type": "markdown",
   "id": "050aa353",
   "metadata": {},
   "source": [
    "### 例7.6"
   ]
  },
  {
   "cell_type": "markdown",
   "id": "61a2443b",
   "metadata": {},
   "source": [
    "in_con_df = pd.read_csv(\"Inc_con.csv\",index_col=\"year\")  \n",
    "results = smf.ols('consumption ~ 0+income', data=in_con_df).fit()  \n",
    "resids = results.resid[0:24]  "
   ]
  },
  {
   "cell_type": "markdown",
   "id": "e893829b",
   "metadata": {},
   "source": [
    "x_diff = income_df.diff().dropna()  \n",
    "y_diff = consumption_df.diff().dropna().rename(columns={\"consumption\":\"y_diff\"})  \n",
    "y_diff[\"x_diff\"]=x_diff[\"income\"]  \n",
    "y_diff[\"resids\"]=resids  \n",
    "res_df = smf.ols('y_diff ~ 0 + x_diff + resids',data=y_diff).fit()  \n",
    "print(res_df.summary().tables[1])  "
   ]
  }
 ],
 "metadata": {
  "kernelspec": {
   "display_name": "Python 3 (ipykernel)",
   "language": "python",
   "name": "python3"
  },
  "language_info": {
   "codemirror_mode": {
    "name": "ipython",
    "version": 3
   },
   "file_extension": ".py",
   "mimetype": "text/x-python",
   "name": "python",
   "nbconvert_exporter": "python",
   "pygments_lexer": "ipython3",
   "version": "3.9.11"
  }
 },
 "nbformat": 4,
 "nbformat_minor": 5
}
